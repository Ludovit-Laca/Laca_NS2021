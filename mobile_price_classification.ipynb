{
  "nbformat": 4,
  "nbformat_minor": 0,
  "metadata": {
    "colab": {
      "name": "mobile_price_classification.ipynb",
      "provenance": [],
      "collapsed_sections": []
    },
    "kernelspec": {
      "name": "python3",
      "display_name": "Python 3"
    },
    "language_info": {
      "name": "python"
    }
  },
  "cells": [
    {
      "cell_type": "markdown",
      "metadata": {
        "id": "GCDaKobzVqBW"
      },
      "source": [
        "###Importy"
      ]
    },
    {
      "cell_type": "code",
      "metadata": {
        "id": "c6kdvKdXVfqE"
      },
      "source": [
        "# tu budú zobrazené všetky importy knižnic, ktoré budeme v projekte používať\n",
        "import pandas as pd\n",
        "import numpy as np\n",
        "\n",
        "from sklearn.preprocessing import StandardScaler\n",
        "from sklearn.preprocessing import OneHotEncoder\n",
        "\n",
        "from sklearn.model_selection import train_test_split\n",
        "\n",
        "from sklearn.metrics import accuracy_score\n",
        "\n",
        "# neurónová sieť\n",
        "import keras\n",
        "from keras.models import Sequential\n",
        "from keras.layers import Dense\n",
        "\n",
        "# vizualizácia\n",
        "import matplotlib.pyplot as plt"
      ],
      "execution_count": 1,
      "outputs": []
    },
    {
      "cell_type": "markdown",
      "metadata": {
        "id": "HGtm4FcaWsvG"
      },
      "source": [
        "##1. Predpríprava dát\n",
        "Ako prvý krok bude importnutie datasetu a jeho zobrazenie v pandas dataframe."
      ]
    },
    {
      "cell_type": "code",
      "metadata": {
        "colab": {
          "base_uri": "https://localhost:8080/",
          "height": 226
        },
        "id": "YxZp6_wYWQsQ",
        "outputId": "988b9bfd-6156-498b-85c1-2ff256889ee3"
      },
      "source": [
        "# pomocou knižnice pandas načítaj csv a vytvor z neho dataframe\n",
        "dataset = pd.read_csv(\"/content/drive/MyDrive/Škola/NS/Laca_NS2021/dataset.csv\")\n",
        "# ukáž prvé riadky nového dataframu\n",
        "dataset.head()"
      ],
      "execution_count": 2,
      "outputs": [
        {
          "output_type": "execute_result",
          "data": {
            "text/html": [
              "<div>\n",
              "<style scoped>\n",
              "    .dataframe tbody tr th:only-of-type {\n",
              "        vertical-align: middle;\n",
              "    }\n",
              "\n",
              "    .dataframe tbody tr th {\n",
              "        vertical-align: top;\n",
              "    }\n",
              "\n",
              "    .dataframe thead th {\n",
              "        text-align: right;\n",
              "    }\n",
              "</style>\n",
              "<table border=\"1\" class=\"dataframe\">\n",
              "  <thead>\n",
              "    <tr style=\"text-align: right;\">\n",
              "      <th></th>\n",
              "      <th>battery_power</th>\n",
              "      <th>blue</th>\n",
              "      <th>clock_speed</th>\n",
              "      <th>dual_sim</th>\n",
              "      <th>fc</th>\n",
              "      <th>four_g</th>\n",
              "      <th>int_memory</th>\n",
              "      <th>m_dep</th>\n",
              "      <th>mobile_wt</th>\n",
              "      <th>n_cores</th>\n",
              "      <th>pc</th>\n",
              "      <th>px_height</th>\n",
              "      <th>px_width</th>\n",
              "      <th>ram</th>\n",
              "      <th>sc_h</th>\n",
              "      <th>sc_w</th>\n",
              "      <th>talk_time</th>\n",
              "      <th>three_g</th>\n",
              "      <th>touch_screen</th>\n",
              "      <th>wifi</th>\n",
              "      <th>price_range</th>\n",
              "    </tr>\n",
              "  </thead>\n",
              "  <tbody>\n",
              "    <tr>\n",
              "      <th>0</th>\n",
              "      <td>842</td>\n",
              "      <td>0</td>\n",
              "      <td>2.2</td>\n",
              "      <td>0</td>\n",
              "      <td>1</td>\n",
              "      <td>0</td>\n",
              "      <td>7</td>\n",
              "      <td>0.6</td>\n",
              "      <td>188</td>\n",
              "      <td>2</td>\n",
              "      <td>2</td>\n",
              "      <td>20</td>\n",
              "      <td>756</td>\n",
              "      <td>2549</td>\n",
              "      <td>9</td>\n",
              "      <td>7</td>\n",
              "      <td>19</td>\n",
              "      <td>0</td>\n",
              "      <td>0</td>\n",
              "      <td>1</td>\n",
              "      <td>1</td>\n",
              "    </tr>\n",
              "    <tr>\n",
              "      <th>1</th>\n",
              "      <td>1021</td>\n",
              "      <td>1</td>\n",
              "      <td>0.5</td>\n",
              "      <td>1</td>\n",
              "      <td>0</td>\n",
              "      <td>1</td>\n",
              "      <td>53</td>\n",
              "      <td>0.7</td>\n",
              "      <td>136</td>\n",
              "      <td>3</td>\n",
              "      <td>6</td>\n",
              "      <td>905</td>\n",
              "      <td>1988</td>\n",
              "      <td>2631</td>\n",
              "      <td>17</td>\n",
              "      <td>3</td>\n",
              "      <td>7</td>\n",
              "      <td>1</td>\n",
              "      <td>1</td>\n",
              "      <td>0</td>\n",
              "      <td>2</td>\n",
              "    </tr>\n",
              "    <tr>\n",
              "      <th>2</th>\n",
              "      <td>563</td>\n",
              "      <td>1</td>\n",
              "      <td>0.5</td>\n",
              "      <td>1</td>\n",
              "      <td>2</td>\n",
              "      <td>1</td>\n",
              "      <td>41</td>\n",
              "      <td>0.9</td>\n",
              "      <td>145</td>\n",
              "      <td>5</td>\n",
              "      <td>6</td>\n",
              "      <td>1263</td>\n",
              "      <td>1716</td>\n",
              "      <td>2603</td>\n",
              "      <td>11</td>\n",
              "      <td>2</td>\n",
              "      <td>9</td>\n",
              "      <td>1</td>\n",
              "      <td>1</td>\n",
              "      <td>0</td>\n",
              "      <td>2</td>\n",
              "    </tr>\n",
              "    <tr>\n",
              "      <th>3</th>\n",
              "      <td>615</td>\n",
              "      <td>1</td>\n",
              "      <td>2.5</td>\n",
              "      <td>0</td>\n",
              "      <td>0</td>\n",
              "      <td>0</td>\n",
              "      <td>10</td>\n",
              "      <td>0.8</td>\n",
              "      <td>131</td>\n",
              "      <td>6</td>\n",
              "      <td>9</td>\n",
              "      <td>1216</td>\n",
              "      <td>1786</td>\n",
              "      <td>2769</td>\n",
              "      <td>16</td>\n",
              "      <td>8</td>\n",
              "      <td>11</td>\n",
              "      <td>1</td>\n",
              "      <td>0</td>\n",
              "      <td>0</td>\n",
              "      <td>2</td>\n",
              "    </tr>\n",
              "    <tr>\n",
              "      <th>4</th>\n",
              "      <td>1821</td>\n",
              "      <td>1</td>\n",
              "      <td>1.2</td>\n",
              "      <td>0</td>\n",
              "      <td>13</td>\n",
              "      <td>1</td>\n",
              "      <td>44</td>\n",
              "      <td>0.6</td>\n",
              "      <td>141</td>\n",
              "      <td>2</td>\n",
              "      <td>14</td>\n",
              "      <td>1208</td>\n",
              "      <td>1212</td>\n",
              "      <td>1411</td>\n",
              "      <td>8</td>\n",
              "      <td>2</td>\n",
              "      <td>15</td>\n",
              "      <td>1</td>\n",
              "      <td>1</td>\n",
              "      <td>0</td>\n",
              "      <td>1</td>\n",
              "    </tr>\n",
              "  </tbody>\n",
              "</table>\n",
              "</div>"
            ],
            "text/plain": [
              "   battery_power  blue  clock_speed  ...  touch_screen  wifi  price_range\n",
              "0            842     0          2.2  ...             0     1            1\n",
              "1           1021     1          0.5  ...             1     0            2\n",
              "2            563     1          0.5  ...             1     0            2\n",
              "3            615     1          2.5  ...             0     0            2\n",
              "4           1821     1          1.2  ...             1     0            1\n",
              "\n",
              "[5 rows x 21 columns]"
            ]
          },
          "metadata": {
            "tags": []
          },
          "execution_count": 2
        }
      ]
    },
    {
      "cell_type": "markdown",
      "metadata": {
        "id": "ylLvr1VQ9bPI"
      },
      "source": [
        "Ďalším dôležitým krokom je rozdelenie dát do dvoch polí, kde v poli ***'X'*** budú vlastnosti telefónov a v poli ***'y'*** cenová kategória telefónov."
      ]
    },
    {
      "cell_type": "code",
      "metadata": {
        "colab": {
          "base_uri": "https://localhost:8080/"
        },
        "id": "9WgxAZMJ8bLW",
        "outputId": "157b64b6-a72d-4ecf-f1b2-8b8602f55d68"
      },
      "source": [
        "# vyber z dataframu hodnoty do 20 a ulož ich do pola 'X'\n",
        "X = dataset.iloc[:,:20].values\n",
        "# vyber z dataframu hodnoty od 20 a ulož ich do pola 'y' (iba prince_range teda)\n",
        "y = dataset.iloc[:,20:].values\n",
        "\n",
        "# zobraz vytvorené polia\n",
        "print(\"Pole X: \" + str(X))\n",
        "print(\"\\n\")\n",
        "print(\"Pole y: \" + str(y))"
      ],
      "execution_count": 3,
      "outputs": [
        {
          "output_type": "stream",
          "text": [
            "Pole X: [[8.420e+02 0.000e+00 2.200e+00 ... 0.000e+00 0.000e+00 1.000e+00]\n",
            " [1.021e+03 1.000e+00 5.000e-01 ... 1.000e+00 1.000e+00 0.000e+00]\n",
            " [5.630e+02 1.000e+00 5.000e-01 ... 1.000e+00 1.000e+00 0.000e+00]\n",
            " ...\n",
            " [1.911e+03 0.000e+00 9.000e-01 ... 1.000e+00 1.000e+00 0.000e+00]\n",
            " [1.512e+03 0.000e+00 9.000e-01 ... 1.000e+00 1.000e+00 1.000e+00]\n",
            " [5.100e+02 1.000e+00 2.000e+00 ... 1.000e+00 1.000e+00 1.000e+00]]\n",
            "\n",
            "\n",
            "Pole y: [[1]\n",
            " [2]\n",
            " [2]\n",
            " ...\n",
            " [3]\n",
            " [0]\n",
            " [3]]\n"
          ],
          "name": "stdout"
        }
      ]
    },
    {
      "cell_type": "markdown",
      "metadata": {
        "id": "AYDybEY9Bj2w"
      },
      "source": [
        "### Normalizácia dát"
      ]
    },
    {
      "cell_type": "markdown",
      "metadata": {
        "id": "gzYewpsnEWaa"
      },
      "source": [
        "Cieľom normalizácie je zmeniť hodnoty číselných stĺpcov v množine údajov na spoločnú škálu bez toho, aby došlo k narušeniu rozdielov v rozsahoch hodnôt. Nie je vždy nutné robiť normalizáciu. Vyžaduje sa, iba ak sa v datasete vyskytujú rôzne rozsahy. \n",
        "\n",
        "V tomto datasete je nutné spraviť normalizáciu pretože sa tu vyskytujú hodnoty ako `battery_power` čo sa pohybuje v tisíckach a hodnoty `clock_speed` ktoré sú aj ***0.6*** napríklad. \n",
        "\n",
        "Na jej implementáciu som použil `StandardScaler` z kniźnice `sklearn.preprocessing`"
      ]
    },
    {
      "cell_type": "code",
      "metadata": {
        "colab": {
          "base_uri": "https://localhost:8080/"
        },
        "id": "OLu1i4OC8d2t",
        "outputId": "aa0639b3-94d2-4154-b75e-3646b78c793e"
      },
      "source": [
        "# vytvoríme nový StandardScaler\n",
        "standard_scaler = StandardScaler()\n",
        "# aplikujeme metódu 'fit_transfrom' z novo vytvoreného StandardScaleru na pole \n",
        "# vlastností 'X', ktorá sa prispôsobí údajom a potom ich transformuje. \n",
        "X = standard_scaler.fit_transform(X)\n",
        "# následne vypíšeme prvý riadok už z transformovaného pola\n",
        "print(X[0])"
      ],
      "execution_count": 4,
      "outputs": [
        {
          "output_type": "stream",
          "text": [
            "[-0.90259726 -0.9900495   0.83077942 -1.01918398 -0.76249466 -1.04396559\n",
            " -1.38064353  0.34073951  1.34924881 -1.10197128 -1.3057501  -1.40894856\n",
            " -1.14678403  0.39170341 -0.78498329  0.2831028   1.46249332 -1.78686097\n",
            " -1.00601811  0.98609664]\n"
          ],
          "name": "stdout"
        }
      ]
    },
    {
      "cell_type": "markdown",
      "metadata": {
        "id": "-6hglelFR0U7"
      },
      "source": [
        "### Použitie OneHotEncoderu"
      ]
    },
    {
      "cell_type": "markdown",
      "metadata": {
        "id": "tlKNaRU7SYUa"
      },
      "source": [
        "Dôležitým krokom je proces prevodu celočíselných tried na binárne hodnoty aby som s nimi dokázal ďalej pracovať. Na uskutočnenie tohoto prevodu som použil práve `OneHotEncoder` z knižnice  `sklearn.preprocessing`. Spôsob fungovania možno vidieť na nasledujúcom obrázku, kde je zakódovaných prvých 5 riadkov datasetu: \n",
        "\n",
        "![wweq.JPG](data:image/jpeg;base64,/9j/4QmqRXhpZgAASUkqAAgAAAAOAAABAwABAAAAIAEAAAEBAwABAAAArgAAAAMBAwABAAAAAQAAAAYBAwABAAAAAgAAABIBAwABAAAAAQAAABoBBQABAAAAtgAAABsBBQABAAAAvgAAABwBAwABAAAAAQAAACgBAwABAAAAAgAAADEBAgAWAAAAxgAAADIBAgAUAAAA3AAAADsBAgAMAAAA8AAAABMCAwABAAAAAQAAAGmHBAABAAAA/AAAAAAAAAAAAABgAAAAAQAAAGAAAAABWm9uZXIgUGhvdG8gU3R1ZGlvIDE0ADIwMjE6MDQ6MjUgMTY6MDY6NTUAUGF0dG9vIExhY2EACQADkAIAFAAAAG4BAAAEkAIAFAAAAIIBAAABkQcABAAAAAECAwCRkgIAAwAAADkyAACSkgIAAwAAADkyAAABoAMAAQAAAP//AAACoAQAAQAAACABAAADoAQAAQAAAK4AAAAc6gcADAgAAJYBAAAAAAAAMjAyMTowNDoyNSAxNTo1NjoxNgAyMDIxOjA0OjI1IDE1OjU2OjE2ABzqAAAACAAAAAAAAAAAAAAAAAAAAAAAAAAAAAAAAAAAAAAAAAAAAAAAAAAAAAAAAAAAAAAAAAAAAAAAAAAAAAAAAAAAAAAAAAAAAAAAAAAAAAAAAAAAAAAAAAAAAAAAAAAAAAAAAAAAAAAAAAAAAAAAAAAAAAAAAAAAAAAAAAAAAAAAAAAAAAAAAAAAAAAAAAAAAAAAAAAAAAAAAAAAAAAAAAAAAAAAAAAAAAAAAAAAAAAAAAAAAAAAAAAAAAAAAAAAAAAAAAAAAAAAAAAAAAAAAAAAAAAAAAAAAAAAAAAAAAAAAAAAAAAAAAAAAAAAAAAAAAAAAAAAAAAAAAAAAAAAAAAAAAAAAAAAAAAAAAAAAAAAAAAAAAAAAAAAAAAAAAAAAAAAAAAAAAAAAAAAAAAAAAAAAAAAAAAAAAAAAAAAAAAAAAAAAAAAAAAAAAAAAAAAAAAAAAAAAAAAAAAAAAAAAAAAAAAAAAAAAAAAAAAAAAAAAAAAAAAAAAAAAAAAAAAAAAAAAAAAAAAAAAAAAAAAAAAAAAAAAAAAAAAAAAAAAAAAAAAAAAAAAAAAAAAAAAAAAAAAAAAAAAAAAAAAAAAAAAAAAAAAAAAAAAAAAAAAAAAAAAAAAAAAAAAAAAAAAAAAAAAAAAAAAAAAAAAAAAAAAAAAAAAAAAAAAAAAAAAAAAAAAAAAAAAAAAAAAAAAAAAAAAAAAAAAAAAAAAAAAAAAAAAAAAAAAAAAAAAAAAAAAAAAAAAAAAAAAAAAAAAAAAAAAAAAAAAAAAAAAAAAAAAAAAAAAAAAAAAAAAAAAAAAAAAAAAAAAAAAAAAAAAAAAAAAAAAAAAAAAAAAAAAAAAAAAAAAAAAAAAAAAAAAAAAAAAAAAAAAAAAAAAAAAAAAAAAAAAAAAAAAAAAAAAAAAAAAAAAAAAAAAAAAAAAAAAAAAAAAAAAAAAAAAAAAAAAAAAAAAAAAAAAAAAAAAAAAAAAAAAAAAAAAAAAAAAAAAAAAAAAAAAAAAAAAAAAAAAAAAAAAAAAAAAAAAAAAAAAAAAAAAAAAAAAAAAAAAAAAAAAAAAAAAAAAAAAAAAAAAAAAAAAAAAAAAAAAAAAAAAAAAAAAAAAAAAAAAAAAAAAAAAAAAAAAAAAAAAAAAAAAAAAAAAAAAAAAAAAAAAAAAAAAAAAAAAAAAAAAAAAAAAAAAAAAAAAAAAAAAAAAAAAAAAAAAAAAAAAAAAAAAAAAAAAAAAAAAAAAAAAAAAAAAAAAAAAAAAAAAAAAAAAAAAAAAAAAAAAAAAAAAAAAAAAAAAAAAAAAAAAAAAAAAAAAAAAAAAAAAAAAAAAAAAAAAAAAAAAAAAAAAAAAAAAAAAAAAAAAAAAAAAAAAAAAAAAAAAAAAAAAAAAAAAAAAAAAAAAAAAAAAAAAAAAAAAAAAAAAAAAAAAAAAAAAAAAAAAAAAAAAAAAAAAAAAAAAAAAAAAAAAAAAAAAAAAAAAAAAAAAAAAAAAAAAAAAAAAAAAAAAAAAAAAAAAAAAAAAAAAAAAAAAAAAAAAAAAAAAAAAAAAAAAAAAAAAAAAAAAAAAAAAAAAAAAAAAAAAAAAAAAAAAAAAAAAAAAAAAAAAAAAAAAAAAAAAAAAAAAAAAAAAAAAAAAAAAAAAAAAAAAAAAAAAAAAAAAAAAAAAAAAAAAAAAAAAAAAAAAAAAAAAAAAAAAAAAAAAAAAAAAAAAAAAAAAAAAAAAAAAAAAAAAAAAAAAAAAAAAAAAAAAAAAAAAAAAAAAAAAAAAAAAAAAAAAAAAAAAAAAAAAAAAAAAAAAAAAAAAAAAAAAAAAAAAAAAAAAAAAAAAAAAAAAAAAAAAAAAAAAAAAAAAAAAAAAAAAAAAAAAAAAAAAAAAAAAAAAAAAAAAAAAAAAAAAAAAAAAAAAAAAAAAAAAAAAAAAAAAAAAAAAAAAAAAAAAAAAAAAAAAAAAAAAAAAAAAAAAAAAAAAAAAAAAAAAAAAAAAAAAAAAAAAAAAAAAAAAAAAAAAAAAAAAAAAAAAAAAAAAAAAAAAAAAAAAAAAAAAAAAAAAAAAAAAAAAAAAAAAAAAAAAAAAAAAAAAAAAAAAAAAAAAAAAAAAAAAAAAAAAAAAAAAAAAAAAAAAAAAAAAAAAAAAAAAAAAAAAAAAAAAAAAAAAAAAAAAAAAAAAAAAAAAAAAAAAAAAAAAAAAAAAAAAAAAAAAAAAAAAAAAAAAAAAAAAAAAAAAAAAAAAAAAAAAAAAAAAAAAAAAAAAAAAAAAAAAAAAAAAAAAAAAAAAAAAAAAAAAAAAAAAAAAAAAAAAAAAAAAAAAAAAAAAAAAAAAAAAAAAAAAAAAAAAAAAAAAAAAAAAAAAAAAAAAAAAAAAAAAAAAAAAAAAAAAAAAAAAAAAAAAAAAAAAAAAAAAAAAAAAAAAAAAAAAAAAAAAAAAAAAAAAAAAAAAAAAAAAAAAAAAAAAAAAAAAAAAAAAAAAAAAAAAAAAAAAAAAAAAAAAAAAAAAAAAAAAAAAAAAAAAAAAAAAAAAAAAAAAAAAAAAAAAAAAAAAAAAAAAAAAAAAAAAAAAAAAAAAAAAAAAAAAAAAAAAAAAAAAAAAAAAAAAAAAAAAAAAAAAAAAAAAAAAAAAAAAAAAAAAAAAAAAAAAAAAAAAAAAAAAAAAAAAAAAAAAAAAAAAAAAAAAAAAAAAAAAAAAAAAAAAAAAAAAAAAAAAAAAAAAAAAAAAAAAAAAAAAAAAAAAAAAAAAAAAAAAAAAAAAA/+ELh2h0dHA6Ly9ucy5hZG9iZS5jb20veGFwLzEuMC8APD94cGFja2V0IGJlZ2luPSLvu78iIGlkPSJXNU0wTXBDZWhpSHpyZVN6TlRjemtjOWQiPz4KPHg6eG1wbWV0YSB4bWxuczp4PSJhZG9iZTpuczptZXRhLyIgeDp4bXB0az0iWE1QIENvcmUgNC4xLjEiPgogICA8cmRmOlJERiB4bWxuczpyZGY9Imh0dHA6Ly93d3cudzMub3JnLzE5OTkvMDIvMjItcmRmLXN5bnRheC1ucyMiPgogICAgICA8cmRmOkRlc2NyaXB0aW9uIHJkZjphYm91dD0iIgogICAgICAgICAgICB4bWxuczp4YXA9Imh0dHA6Ly9ucy5hZG9iZS5jb20veGFwLzEuMC8iPgogICAgICAgICA8eGFwOkNyZWF0ZURhdGU+MjAyMS0wNC0yNVQxNTo1NjoxNi45MTU8L3hhcDpDcmVhdGVEYXRlPgogICAgICA8L3JkZjpEZXNjcmlwdGlvbj4KICAgICAgPHJkZjpEZXNjcmlwdGlvbiByZGY6YWJvdXQ9IiIKICAgICAgICAgICAgeG1sbnM6ZGM9Imh0dHA6Ly9wdXJsLm9yZy9kYy9lbGVtZW50cy8xLjEvIj4KICAgICAgICAgPGRjOmNyZWF0b3I+CiAgICAgICAgICAgIDxyZGY6U2VxPgogICAgICAgICAgICAgICA8cmRmOmxpPlBhdHRvbyBMYWNhPC9yZGY6bGk+CiAgICAgICAgICAgIDwvcmRmOlNlcT4KICAgICAgICAgPC9kYzpjcmVhdG9yPgogICAgICA8L3JkZjpEZXNjcmlwdGlvbj4KICAgICAgPHJkZjpEZXNjcmlwdGlvbiByZGY6YWJvdXQ9IiIKICAgICAgICAgICAgeG1sbnM6eGFwTU09Imh0dHA6Ly9ucy5hZG9iZS5jb20veGFwLzEuMC9tbS8iPgogICAgICAgICA8eGFwTU06SW5zdGFuY2VJRD51dWlkOmZhZjViZGQ1LWJhM2QtMTFkYS1hZDMxLWQzM2Q3NTE4MmYxYjwveGFwTU06SW5zdGFuY2VJRD4KICAgICAgPC9yZGY6RGVzY3JpcHRpb24+CiAgIDwvcmRmOlJERj4KPC94OnhtcG1ldGE+CiAgICAgICAgICAgICAgICAgICAgICAgICAgICAgICAgICAgICAgICAgICAgICAgICAgICAgICAgICAgICAgICAgICAgICAgICAgICAgICAgICAgICAgICAgICAgICAgICAgICAKICAgICAgICAgICAgICAgICAgICAgICAgICAgICAgICAgICAgICAgICAgICAgICAgICAgICAgICAgICAgICAgICAgICAgICAgICAgICAgICAgICAgICAgICAgICAgICAgICAgIAogICAgICAgICAgICAgICAgICAgICAgICAgICAgICAgICAgICAgICAgICAgICAgICAgICAgICAgICAgICAgICAgICAgICAgICAgICAgICAgICAgICAgICAgICAgICAgICAgICAgCiAgICAgICAgICAgICAgICAgICAgICAgICAgICAgICAgICAgICAgICAgICAgICAgICAgICAgICAgICAgICAgICAgICAgICAgICAgICAgICAgICAgICAgICAgICAgICAgICAgICAKICAgICAgICAgICAgICAgICAgICAgICAgICAgICAgICAgICAgICAgICAgICAgICAgICAgICAgICAgICAgICAgICAgICAgICAgICAgICAgICAgICAgICAgICAgICAgICAgICAgIAogICAgICAgICAgICAgICAgICAgICAgICAgICAgICAgICAgICAgICAgICAgICAgICAgICAgICAgICAgICAgICAgICAgICAgICAgICAgICAgICAgICAgICAgICAgICAgICAgICAgCiAgICAgICAgICAgICAgICAgICAgICAgICAgICAgICAgICAgICAgICAgICAgICAgICAgICAgICAgICAgICAgICAgICAgICAgICAgICAgICAgICAgICAgICAgICAgICAgICAgICAKICAgICAgICAgICAgICAgICAgICAgICAgICAgICAgICAgICAgICAgICAgICAgICAgICAgICAgICAgICAgICAgICAgICAgICAgICAgICAgICAgICAgICAgICAgICAgICAgICAgIAogICAgICAgICAgICAgICAgICAgICAgICAgICAgICAgICAgICAgICAgICAgICAgICAgICAgICAgICAgICAgICAgICAgICAgICAgICAgICAgICAgICAgICAgICAgICAgICAgICAgCiAgICAgICAgICAgICAgICAgICAgICAgICAgICAgICAgICAgICAgICAgICAgICAgICAgICAgICAgICAgICAgICAgICAgICAgICAgICAgICAgICAgICAgICAgICAgICAgICAgICAKICAgICAgICAgICAgICAgICAgICAgICAgICAgICAgICAgICAgICAgICAgICAgICAgICAgICAgICAgICAgICAgICAgICAgICAgICAgICAgICAgICAgICAgICAgICAgICAgICAgIAogICAgICAgICAgICAgICAgICAgICAgICAgICAgICAgICAgICAgICAgICAgICAgICAgICAgICAgICAgICAgICAgICAgICAgICAgICAgICAgICAgICAgICAgICAgICAgICAgICAgCiAgICAgICAgICAgICAgICAgICAgICAgICAgICAgICAgICAgICAgICAgICAgICAgICAgICAgICAgICAgICAgICAgICAgICAgICAgICAgICAgICAgICAgICAgICAgICAgICAgICAKICAgICAgICAgICAgICAgICAgICAgICAgICAgICAgICAgICAgICAgICAgICAgICAgICAgICAgICAgICAgICAgICAgICAgICAgICAgICAgICAgICAgICAgICAgICAgICAgICAgIAogICAgICAgICAgICAgICAgICAgICAgICAgICAgICAgICAgICAgICAgICAgICAgICAgICAgICAgICAgICAgICAgICAgICAgICAgICAgICAgICAgICAgICAgICAgICAgICAgICAgCiAgICAgICAgICAgICAgICAgICAgICAgICAgICAgICAgICAgICAgICAgICAgICAgICAgICAgICAgICAgICAgICAgICAgICAgICAgICAgICAgICAgICAgICAgICAgICAgICAgICAKICAgICAgICAgICAgICAgICAgICAgICAgICAgICAgICAgICAgICAgICAgICAgICAgICAgICAgICAgICAgICAgICAgICAgICAgICAgICAgICAgICAgICAgICAgICAgICAgICAgIAogICAgICAgICAgICAgICAgICAgICAgICAgICAgICAgICAgICAgICAgICAgICAgICAgICAgICAgICAgICAgICAgICAgICAgICAgICAgICAgICAgICAgICAgICAgICAgICAgICAgCiAgICAgICAgICAgICAgICAgICAgICAgICAgICAgICAgICAgICAgICAgICAgICAgICAgICAgICAgICAgICAgICAgICAgICAgICAgICAgICAgICAgICAgICAgICAgICAgICAgICAKICAgICAgICAgICAgICAgICAgICAgICAgICAgICAgICAgICAgICAgICAgICAgICAgICAgICAgICAgICAgICAgICAgICAgICAgICAgICAgICAgICAgICAgICAgICAgICAgICAgIAogICAgICAgICAgICAgICAgICAgICAgICAgICAKPD94cGFja2V0IGVuZD0idyI/Pv/bAEMAAgEBAQEBAgEBAQICAgICBAMCAgICBQQEAwQGBQYGBgUGBgYHCQgGBwkHBgYICwgJCgoKCgoGCAsMCwoMCQoKCv/bAEMBAgICAgICBQMDBQoHBgcKCgoKCgoKCgoKCgoKCgoKCgoKCgoKCgoKCgoKCgoKCgoKCgoKCgoKCgoKCgoKCgoKCv/AABEIAK4BIAMBIgACEQEDEQH/xAAfAAABBQEBAQEBAQAAAAAAAAAAAQIDBAUGBwgJCgv/xAC1EAACAQMDAgQDBQUEBAAAAX0BAgMABBEFEiExQQYTUWEHInEUMoGRoQgjQrHBFVLR8CQzYnKCCQoWFxgZGiUmJygpKjQ1Njc4OTpDREVGR0hJSlNUVVZXWFlaY2RlZmdoaWpzdHV2d3h5eoOEhYaHiImKkpOUlZaXmJmaoqOkpaanqKmqsrO0tba3uLm6wsPExcbHyMnK0tPU1dbX2Nna4eLj5OXm5+jp6vHy8/T19vf4+fr/xAAfAQADAQEBAQEBAQEBAAAAAAAAAQIDBAUGBwgJCgv/xAC1EQACAQIEBAMEBwUEBAABAncAAQIDEQQFITEGEkFRB2FxEyIygQgUQpGhscEJIzNS8BVictEKFiQ04SXxFxgZGiYnKCkqNTY3ODk6Q0RFRkdISUpTVFVWV1hZWmNkZWZnaGlqc3R1dnd4eXqCg4SFhoeIiYqSk5SVlpeYmZqio6Slpqeoqaqys7S1tre4ubrCw8TFxsfIycrS09TV1tfY2dri4+Tl5ufo6ery8/T19vf4+fr/2gAMAwEAAhEDEQA/APzfooooAKKKKACiiigAooooAKKKKACiiigAooooAKKKKACiiigAooooAKKKKACiiigAoowcE7T+ROfyBNHJ6d+maACiiigAooooAKKKKACiiigAooooAKKKKACiiigAr0b9nTVfgTpVx41Px28LnVEuPh3qsPhEfaZYha66VQ2k58thu2kONrZU7uQa85ooA+g7f/gm18cr/SNMvNK8V+Ery/1z4bHxzoOhW+oXP2zUdKUbpPLDW4QTKuT5bupbB2FiCBi3P7Dvj7Svgt4d+PXib4oeBNG0DxX4d1LVvD/9ra7JDcXpsZFjmtI4jDl7ks2FRcq2373K7voz4s/to/D74BaJ8FvHXw4l07xT4psf2ZYvDAbTfEtvLBot7Orxv9qijV3E0Ssx8pmQksAdu05+afjX+1FpXxf/AGevhJ8Bk+Hdxp3/AAq201KBtVOuLN/agvbhJ5CIvs6+RtZMD5pODznGSAejftHfsN+L5/2gvFek+HfA/hL4b+HfDGk+H5tYlPie9v8AS9PbUVggtibh4DOzTyu0hXysRgSZO1Cx5nwx/wAE1/2kfFfiG/8ADNgmhpc2/jC78L6azag8kWr6nbW7zyRW0kUbpt2KoEkpjTdKilgdwX0jxj/wVK8EfFPxf8Sbb4lfs33c/gv4oeFdG0vWtBtPGCi9s7rS1Itby3ujZ7VIPJRomBODkgFDwfhD9tb4b6f+zTf/ALMvjD4JavdaTY+LpfEHgi70jxo1nc6fI8Qia2u3Fu32qFgoZ9giYktsMfylADzj9mv9mX4jftT/ABdj+CPw5n06216a0up4YdYmkhR/IjMkkeVR8PtViAQB8pGc4B6nwr+wn8QvGty7eFvij4D1DTrW20RtV1rT9ekurbTrjVbprW1s5vIheTzxKpDhEZUGCW+Zc0P2K/2pbX9kX9oG3+O978P5PEjW2m31rHpcWsfYQWuYHhLmQwzcKrsdu3k45450P2Tv2qPh5+zTpvia51H4KS65r2pXumT+Hdft9fFnc6Ulrc+dLb7/ACHJiuAEjl8vy2ZAybgHOADQ0f8A4JyfHC9ufHlvr3inwloS/DfxZZ+H/FU2r6pMEguLqcQwSp5ULmWJnP8ACC+P4Kbef8E5/jvoninxv4c8X6z4b0WDwD4msNA1jWL++na1mv72RVt44PJgeRwysJCxRQqH5tpwtdv4y/4KWeFPE0/xfjh+A+oJB8V/HOi+IpGfxfGH07+z7iOfyQPsREnmMrjdxsDLw+0lvRfAP7aHwK+MPiL4yftAfFrUvEfg3/hNfF/h64svC3h3WtF1S4jktYZW8/7NrEcMEqLJDEfPVTLGSEGFdywB4baf8Ez/ANoS78fax4AXU/D6S6R41tvCB1CSW8Ftd65NE0q2UTfZt2Qq/NK6pCNyHzMOpPE/F+3+D+hfBHwP4I0XwTJpnxI0XV9etfiRczXMrNMy3EQtEKFjGmxPNT5AMlSTk17n8R/2u/hH8P8ASPiN+zFrl94m+KvhXxF4utfGmi+NLXxVFpmr22tTWMQuEuJo47mG4AyYHMeUJjcoTuVl+Q9Tvf7T1K41I26Q/aJ3k8qNmZU3MTtBcliBnGWJPqSeaAPe5P2HrR/2Y/hh8abP4waKNZ+KPiu50rSNHuIbxUjWKeG22l1tmHmLLI7SFiFCKuwyEkV3PwT/AOCefijwf+0r/wAKi+JFr8NfHOuRDW7C68BN47urSeCa3sfOW6ke3t2aOMLIJI88SGJkOxhXA6L+2hoFt8BvhJ8INe+F13dXXwm8a3Ot6fqFprywR38M91FcvC6NbuUfdGVDgkANkqSMHe8F/wDBQ/SvCP7f/iD9uZ/grcXI1z7ey+Fh4pVPIe6tjAxNz9kO8KGYgeUp5HPByAcP4a/YX+O/ir4Sr8XtPsrFLabwpqHiay0qaSUXd3pNlKsVxdJiIxAAl2CPIrusTsqsNu72L4U/sEaD4I+FXxrg/aK0PRrvxf4V+Etr4l0bT7bVb1LzQJ7jDxeeqeXDIxiYMyZmCkqDgnFeeeN/20fB3xJ/Zg8JfBXxh8J9UbxH4E0270rw54isPFjW9rNYTOzKl5arDmd4tx2FZIwTgsGXcjd343/4KgeGvHr/ABG8V678Cr4+J/ij8NLTwt4lvYPFKJaxzwIsYvIYjaswDLGhMTOehAbvQB4/8Vv2M/iL8HtP0rXPE/i7w3Npeu+Al8W6Pq2n3NzLb3Vk0qxJErGAYnMjxr5bAbS6hiua8ir6K/aM+Lvinwh+y54P/Yv1nxt4R8Uf8I1rl5qVn4i8J6wmoRppt1DbTx2QnQZUC5a4aSJsEPDHlcKjH51oB7CrtLDe2Bnk+lfZNt+wf+z3qPge0mW/8W2GpL4B8N+IL3Wb3VLY2E1xqNzDDJYxILcMjlXYx7nY/Kcqwxn41ywGVJB7ELkj9f55Hsa9D+Ln7TfxU+L9h4b0XWtbkstP8L6LY6fpenabezrbqbSMxx3BRnIE+CcuoHXjGaqNr6iSTbv2R6x8VvhV+yf8Hf2jYfhZ8PYfHmo6z4Z+Ic2nanaX95a7bi3Qr5U8T/ZHVGWTIKvG4kVAfk34Xd+Lv7MPgq7+Nvx+8aeOJNf1i1+H+prJaaNpUlrY3moCe58sXDtHbGKKJPmz5cAU/KBjmvlyw8deN9L8Tv410zxjqttrMkjvJq8GoSpdMzgh2MobeSwJyc85Oavn4yfF4+JB4xPxV8Sf2uLf7ONV/ty4+0iLJPl+bv3bck/LnHNKPw/Mttc17Hv/AIZ/ZM/Zrf8AZ00v4x/EL4ganot14mTXW0uMXjzLpstmF+z2sqRWT+c7MwEjNJb7QykL1rwT4KeDdH+I3xh8MeAddkuIbHWddtbO7ktnCyJFLKqsVZgyhsEgEjGSOD0MNh8W/ilp0N5aWvxH19LfU7gzarbJrVwsd67DDmYK48wsvBJ5I71rXnxX8FLYMvhr4C+H9F1JNptNZ03WNXW4tpVIxLH5l7IgbqeVYegFKGj5mQ9YcnU9s1v9lr9m/XPjjqfwb+E0fjG6vfB9/rh8XRa1rFtDC1hYrlLuOdLdmiBIIaMQzOSPlHOB6Nqn/BOb9mzwd4wvdN8UX/jK8tLjVPB1npFvYazBFLB/bPmLK0jyWWZPLZMqRGmRwQOtfFOn+NvGujeJH8Y6T4w1S11eR3aTVba/kjuHZvvMZQ28lsnJzzVm6+KPxMvrg3d98RddmlaaGYyy6vMzGSEkxPktnchJKnqpJxjNVHktZ9RpSSaPqzxj+wn+zl8JPhpr3if4i+KtWlurSy119KnHiuxs2murS/8AstrbiyaGSeZXVXkaZDs+QqMdRyf7Xn7Jv7OX7PfgOay8P/E2/n8YWcWlTQWtzLJJDq8F1brLJLGotESELuBX9/LuUHoeK5rw9/wUI+Mnh/4Z2/w4i0jS5jb6De6RHqlxcXhkkiumdpZJYRP9nnm/eviWSJnGRzkA15DqXxI+IeseGLfwVq/j3WrrRrTZ9k0i51SZ7WHaCF2RMxRcAkDA4zU1YNtqD2a/MqElFJNdP0Ri0UEEHaRgjsaKCQooooAKKKKACiiigAooooAKKK9W+EX7GXxx+M3g6z+IHh6w0nTdH1XXV0TQL/xFrcFgmsam33bS185h5r9iRhAeCwPFAHlNFavjnwP4v+GnjDUvAHj7w9daTrOkXb2upadex7JYJVOCpH8iOCCCCQQa2pPgr4pi+AcP7RTX+n/2JP4vl8OJaiV/tQuktY7ouV2bPK2SKAd+7cCNuOaAOQoq5oHh7X/Fes2/hzwtod5qWoXkojtLDT7Z5pp3PRURAWY+wFd58ev2Svj/APsw6T4b1T47/D+fw43iqCefSLG+mT7SY4TGHaSJSWhOZFwr4brkCgDzeitj4e+CtV+JPj7Q/h1oVxbxXuv6xbabZy3bssSSzyrEjOVViFDMCSATjOAelHxC8Far8NvH2ufDrXbi3lvdA1i5028ltHZonlglaJ2QsqkqWUkEgHGMgdKAMeivoH9mv/gmB+2X+1h8PJvir8IPhlFNoQeSOyvtT1SG0W/kQkOsAlYF8MCpfhNwI3ZVgPEfGngzxV8OvFupeBPHGg3Ol6xpF5Jaalp93Htkt5kYqyMPUEfQ9RxQBmUV1/8AwpXxT/woP/hor7fp/wDYn/CX/wDCOfZfNf7V9q+y/at+3Zs8rZxnfu3cbcc1ieDfBniPx/4ig8LeFLBbi8uNxUSXEcMcaKCzSSSyMqRRqoLNI7KqqCWIAJoAy6K9s+OX/BPz9pH4BfCPTPj34q0fRdV8G6rKsUHiTwr4jtdTtEkYkKrSW7sMEqyhxlNw27skA+J0AFPtoEurmO2kZgsjhWKnBAJxxTKm03/kI2//AF3T+YoA1f8AhBtK/wCf+9/8Cf8A7Gj/AIQbSv8An/vf/An/AOxrZooAxv8AhBtK/wCf+9/8Cf8A7Gj/AIQbSv8An/vf/An/AOxrZooAxv8AhBtK/wCf+9/8Cf8A7Gj/AIQbSv8An/vf/An/AOxrZooAxv8AhBtK/wCf+9/8Cf8A7Gj/AIQbSv8An/vf/An/AOxrZooAxv8AhBtL/wCf+9/8CR/8TQfAullSPtt4eOQbgHAP/Aa2fxx7+lesfFL4R/Crwx+zp4Q+JvgHxJqGqahq2sXtnq8txa/Z7eJ4oYHMUMeSSEMu0yE/MckACgD5/wBW0S30Uxx28krBwd3mybjkfgKp1s+MP9dD9G/nWNQAUUUUAFFFFABRRRQAUUUUAFfpn+1zoOk+Dv2Jv2H9G8MIscE1/pl+4i4H2meK0uJTx382aQn3Jr8zK+r/AAH+3V8LPGP7Pnwx+CH7S2n+KVk+D/i1NV8M6p4Xsre6Op2QfedPuFnnh+zkEKqzp5mEABiJGSAdb/wcAeG9C0L9v19S0iJFn1jwXpt5qZQctOGmgBPv5UEX4AV5Def8ottO/wCy/Xn/AKZLWuR/bI/ah8VftjftD6/8fPFempYPqskcdhpcUpkWxtIkEcUIYgbiFXLNgbnZjgZwOuvP+UW2nf8AZfrz/wBMlrQB4PY6hf6ZP9q02+mt5dpXzIJSjYIwRkc4IODX6Hf8F6rm4vPCH7O93dzvLLL4DuHllkYszsY7EkknkknvX576BBoFzq8MPijU7yzsGJ+0XNhYpczIMHG2J5YlbnA5deCTzjB+tv8Agpp+23+zV+2V4K+HOm/CeLxzYaj4A0STTPJ8ReH7OKG+RhbL5nmQ30jRECFjt2NksBkdaAPnz9lD/k6X4a/9j/o3/pdDR+1f/wAnS/Er/sf9Z/8AS6aj9lD/AJOl+Gv/AGP+jf8ApdDR+1f/AMnS/Er/ALH/AFn/ANLpqAPXP+CZvjL4jXv7afgv4hap8RLzTdB8BWDXviXV7i7ZLbTNAtYj5sT44WJ8rEFA+eSYcFmzXm/7bPx90/8Aah/as8b/AB30fTHs7HxBrBfToJFAcW0caQws4HAdo40ZhzhieT1r6H/Zb/aW/wCCSPwx/ZmT4N/Hz4G/FPxbrGsXcV/4vvbDy7K3ubiMHyoENvqkLyW8O4lBIOXJk2qSFX5x/a5+InwN+Jfxuvtb/Zo+Hd14V8B21na2nhvRNQUC5gjSFfNaUiWXc7zmZ9xkckMMntQB2X/OLb/uv3/uErwa0uGhdoWupYoZgEufJ5LR7gxBGQG5UHBOMgfWvef+cW3/AHX7/wBwlc9+xr8R/wBlf4b/ABI1G7/a8+C2o+NfC+paFNZRwaRd+XdafcO6FbqIGSMOwVXUZdcb8jpggH2R4u8F/CX4r/8ABE280r9kD4162dL+H+t/2r8QPD/iSwhiutQneVGKyBGYQom4SReW7I4jIYlwSv5tV9CeOP2mvgr8Mvgp40/Z0/Y40vxnFoXxD1Kyn8Va347ltVvJLSzd3t7KKG1yiDfIzPKXJkGF2qM5+e6ACptN/wCQjb/9d0/mKhp9tN9nuI7jbny3DYz1wc0AdjRWJ/wmJ/6B6f8Af2j/AITE/wDQPT/v7QBt0Vif8Jif+gen/f2j/hMT/wBA9P8Av7QBt0Vif8Jif+gen/f2j/hMT/0D0/7+0AbdFYn/AAmJ/wCgen/f2j/hMT/0D0/7+0AbeSOQcHsa6LUvib4h1T4Y6b8J7iC1Gl6Vqt1qNq6Rt5xlnVFcMxbBUCMYGMjJ5NcF/wAJi3/QPX/v7S/8JiwODpy88f6yjrYHoJ4w/wBdD9G/nWNV3WNW/tUxv5W3aCDznnNUqACiiigAooooAKKKKACiig8cdyM4FABRXaePP2f/AInfDDwXofj7xxZaTZ2PiXT7e90a3j8UafLfTW04YwzGySc3KowRiGMeOOtHxF/Z++J3wo8KaJ4z8eWekWdn4isbe70mKLxLY3F1LbzxebDcNawzPPHE6ZG541wxUHrQC1VzizwcfX9K6B/ij46k+FsfwVfXc+GYfED63Hpv2WLi/eBYGm8zb5nMSKu3dt4ztySam8ZfBT4z/DjRNN8S/Eb4Q+J/D+naxt/si+1vRJraG8LDcvlSuojkBTBBViG6rlSGPMqVfBjYMp+6wBHXpweR+NAIAM0UhPIC8/MA3IG1SPvc478YHOAWxsBYa/jPwD48+G+qpoXxD8FaxoN9LbpcQ2Gu6VNZTyQuNySLHOiMysOQQDQ9LeYEPhPxRrvgfxTpnjXwvffZdT0fUIb3TrnylfyZ4nEkb7XBVsMoOGBBxyCKPFnijXfHHinU/Gvim/8AtWp6xqE19qNz5Sp508rmSR9qAKuWYnCgAZ4AFZ7Ar94Y/D+nWr3hjwt4l8a+ILTwn4R8P3uqarfTrFZ6bptq9xPO5I+REjDFjg7sDOBnPSjYNyj+NA55BrX8efD3x78LNdk8L/E7wPrHhzVIbX7TPpev6ZNZ3EcRGVkZJVUqhwAGOB19KyWQK5iOQASD+FAG/wD8LQ8df8Kt/wCFLf28P+EZ/t/+2zpn2WL/AI/vI8jzvM2+Z/q/l27tvfbnmufII4IrT8G+CvGfxF8R2/g74feEtU17V7wObPS9G06W6uLjYhdykUSs7qqAk7VJBU8dMp4w8G+LPh9r954R8c+G9Q0bVtO2DUNN1WxktprQtkr5iSKGGQOoBGaJe7KzBa7GaDk4FAORmun+FHwg8c/G7xnF8PvhzDpE2q3DrHbQat4lsdNSeR3WNI4nu5ohM5Z1XYm5vmOBxWHr+h6r4Y1698Na7Zm3vdPu5La8t2ZWMcsbFXUlSQcEEZBI44ND0dgKlFFFABRRRQAUUUUAFFFFABRRRQAEEjA/nXrPj79nbwVofww1f4j/AA/+MqeJP+Ee1OysdeC6EbW0M9zGzgWc7TO1yEZZFYPHE2FDBSM15OojLATKSmfmA6kd69e+Onx0+EvxD8A6V8P/AIaeBvEXhvTNDijGm6M+s28tkZsATXUqrbo8s8mD85b5QQoAUAUf8u13CH8Vt9jyCiiigAooooAKKKKACiiigAowORgcjkev+ePyoo7fj2+nf1/z16UAe7/txAlvhC8StkfA3w66vHEzdBcKDlVODuZhyB9a634y6n4N0f8Aad/Z51bx+bZdAs/h14Hl1tplTYLFPKkmDAkqf3Y3YJHIPPJrx34u/tBXfxj8E+F/C/ib4Y+GbfUPCmgWujab4m08XwvZLOBXWNJEkuntictkssKng4OCcdL+0Rrnxx8bfCrwR4j+Kn7LjeGtOs9I0/R/D3j46FrFuNYs4LXbbKjXtw1nOPKJcvHGqsBkOMjAvdlG/Vv8iXL92z6U/bOsdH8AfAX40+HPG3gzxDa3Hiv4iafqnh/xV4q1eOeXxXcmQyXF9pcEKhY7GO2Z082J5SVmiSSZFAt1+Mfi78Dfit8CrzR9O+LHhZtJuNd0SDWtLi+2Qz+bYzjEcuYXcRksGHlvhgMEgZwORLrKgi3IrB+coJFRs5GAwYsMhWxtwzrg5KhacGHHlx7An+rDOx2YOQPvYwML8oGAQTjnFSpNy1NIx0R0Pwp1L4j6R8QtI1D4UWF5c+JYLvfodrY2AvLgXJChXiiCvlgpG1ypKnDLtYBh79/wU4+H/wAX9C8W/D/xp8TvA/ieyS4+Evhuy1LVNY0yaA3eoJZt9ot3mlAV7lXZQ6MysH3Z6V8wEsokaEhfKYMj5+RCQPnbkYADEMSMDjg54bGYIp1dIkEYkRhH5S/MoUkj5BySDnaT84yVziqqe9GC2FFe80dd8aPgX8Uf2dfHD/Db4yeGV0XW4rKO6eyF7BcKInAKkNbvIo6jhiCK9i/4JlQeFtb+Mfivwlrt7qNtfa/8NdX07QDootzqdxcOIi0Fi1y3lC8miS4hj3MTkYVegPzj8wCpKWJVQMmQkkDpk5Of5U6KLzX2IzM0m0fu4vmZS2wscKMrztDnOGRlBUkkTGMoPl3E7zSex9Uftp6QPG2i/AX4G+G/hZdeH/G1vo82mJ4S1bW/tOqWcVxdlNPt7ue4WJVmmxJKsbpGixzx7IowAo+cfif8OPGnwb+IGrfC74laSdP1/QrprfVbDzklaJg20/OhZGw2QSGOevPWsKNp3XcrkSEgOyoFPPzfNlRgHk8D5htyTgGkSOBUC28arGpUCMH5OBgdcdsYAwB6VUGviTKclGNmj6b/AOCeWk+F/FvhP4x/DmaDWrzXNb8DRjSdG8KiFdV1i1t7yO4vtPtGmVgJZY40YhVlfyo3ZIpHUxnc/bM+H3i79o/9ob4YfBj4Q/DX7L44HwzsLC78JXOsJ5umTxtcyQ2k9xdNGPtcdiIklEjJ86sDEh+UfIzrGimdsBowR5zfLskK8Au3MZ2qMLwv8eDljT5QwDJENpIdAVAjJyvzKArA8Lg8Y6nDEDJKj55pkU1yK56b+yjpN/oX7ZHw40K/tzb3Nt8StJt2hlKFo3W/jXAx8rfNu6E9M9BXPfHrb/wvPxpsGB/wlmpcAEf8vUnrXRfsmS/EnTPjDbeKvhB+zq/xJ1vSXj1Cz0oaPqd0bR4rmJ0uSmnyQMSHC8SMykPnbgYrhvHer694g8cazr3irSxY6pfarcXGpWS2zQi3neVmkjEbktGFYkbScjGD0omrYmC7pspO8WzKp0MTTzJAmMuwUZ9TTan03jUbf/run8xRe+pK2Lf/AAi2o/34v++6P+EW1H+/F/33XR729aN7etAznP8AhFtR/vxf990f8ItqP9+L/vuuj3t60b29aAOc/wCEW1H+/F/33R/wi2o/34v++66Pe3rRvb1oA5z/AIRbUf78X/fdH/CLaj/fi/77ro97etG9vWgDnP8AhFtR/vxf990f8IvqI6vF/wB910almYAHqf8APY/yr0H4g/s3fEP4ceGLnxLrd5pNx/ZsltDrljYX/m3GlS3EYkiS4UKApYZHylgrKyk5wKPsqQLSXKeIX+nXGnMqXDISwyNrZqCtnxgAJYR6KwH0zWNQAUUUUAFFFFABX0L4E/YF8dfHH4TzfEb4E6XrN8NJso7nX7nX7RdPsUBiVjHBPJhZpNx4UHJUE18+RRSzyrDBGzu5wqIuST6AV9s/Br4UfEz9qzwF4f0L41ftaXWi/Bj4faDp8WsaJb2lyLm2kfn7FDZRpm7mdw5Ep37d+QONtAHxt4p8J694N1MaR4i05rWcxhxG7qx25IzlSR1U/lWbXR/Ef4heJPH91pUfiOW2YaBokGjad9n0+O3xa2+4Rhwije/Jy7ZYk8k4rnKOoComXwc8MPu988f5z6V9QfGXR/CWu/tN/s9eH/G8cJ0S/wDh/wCBrfV2kG2M2rLF5oYggFcH5lHzdee1fLwIABxnnlSfcf4f04r0/wDaB+PPgX43+GvCb23w61TSfEfhrwppuhXmpy+KYbizvLazgkgD/Zls0lhcsFbH2hyoT7pFKV5OPq/yJkuaEkfV37aN/petfs+/GvwX8QPGniLxHrPg34h6amhf27py2el6FcTSPF/Y+lJIWk+zLaozuT5MLLBbyJCP9c/wx4r8CeOPAcljH458IazpDapYR3+mnWdPmga8tJMeXPGZgPMR/mIYE5HPQ1oeN/i/8XfiTY6bonxE+J/iTXrHRovL0S11zWZ7iOwjby0VII5iUibBRVAVQ6YUblAaqHi/x947+IE1ndePfG2r63Lp1lHZWEmrapPdtb20Z+SGMzO5CrlsDJwMDmlCK5mzSDvBHqn/AATn8N+GvFP7aPgTRfFdpYTo93dTadDq6M1vJeR2kz24cDO4faUjJC4YqoWvVP21fEWieP8A9kDwxr+s+PPF3jDxXo/xP1fSbTxf41sDZ31/B5Rku0trfzHuEtYJxb7VldpA8svyW6lYa+Q7K9vtNvYbrS72W2vYpVlt2trhoZxMpykildrKw4w6YKkdGzW58Qfir8UvjBqkOs/FH4l674r1CKEQWl5r2qyXs6xr8wVfMcsqjcCqYX7zYK7mLOreShbv+pMP4kvkV/G3w/8AG/wy1s+GPiF4L1bw9qCQJMbDW9Mks50jYAq5ikVXVCCCCVAwR0rQ+EvxE1H4VeM4fGGjeH9Hv9RgBTTxrtilzHYzuMJcCGU+QZUILRmVZFBckISM1neNfH/jX4ka2fFHxC8bat4g1BoEhOo61qMlzcPGo+VDLJ8+0AABeB7U7wT8RfiD8K/ECeK/hz441fw1q0KNHHqui6vNYXKKy/MiyRyI3IJPHDZwTmqpy9nON9dRVpcySR7J/wAFINF1XxR+3/8AEXR9A0y61K7v/ECR2Nva25kmuJDGqARpGNzM0rbQFViXIBxmvE/FnhjxR4O8SXnhTxj4cv8AStWsp/JvtN1S1ME9tJk5WRGGYz1GCMg8ECtzxb8ffjl8QfEumeNfHnxt8Wa5rGi3CPpGtan4iubi4sJVZWzDLKxkjYFQwwcKwUqBjFYPiTxN4k8Y69c+LPFmvX2p6peTedd6hqd00888n96SRyWf6sSc9STycqcVSbV7psqc+aysfRn/AATx03Rrbwt8YPiDY+OZ/DXibwz4HiuNG8S6Tp0l3qWjWb3CG/ns0jdNtwbd1jE5kj8lbljJJHFllsf8FBPDa/Gr4wfDy++DvhDxHrniTxb8LLC7vLaewW61nVirXJiuLhLRCZbia1SG4baGALkF2+8fnHwR408bfDnxNa+K/hx4u1TQtZsyRYalo2pz2l1EJA6MI5IWVlDAsmVJO58fdY1ft/jD8WoPiKPi3b/FTxGviuSV5T4iGt3CanM21kbFwHE6yYkbPzLx94Hcca1VedhQXI22dT+yRZS6b+2H8NbW9tZIZYfiHpcc9tcQqkkUgvolk3xtht2ANyAgnBPHSsD4+gD47eNQM8eLdS6ls/8AH1J/e5/Pn1q/8APix4X+FPxp0j4u/EPwtrHia40jVItX0+DTPE0enzT30M0bq80kltcl0LI6kbVJLAmQmua8f+Jx428d634zGnCzGr6vc3otFl8wQebK0mwN/EF3Y3d8ZoqK2Jp+jHe9NsyKm03/AJCNv/13T+YqGpbB1jvoZHYBVlUknsM1K2JWx19FVv7X0z/n+i/76o/tfTP+f6L/AL6pjLNFVv7X0z/n+i/76o/tfTP+f6L/AL6oAs0VW/tfTP8An+i/76o/tfTP+f6L/vqgCzRVb+19M/5/ov8Avqj+19M/5/ov++qALUaJJIsckmxWIDN6D1r2j4xeJfhHo3wdtfhf8DfiXa3WmCSC81xJtJu4b/Wr/b80shdPKjii3MI4g7YHJZ2JNeG/2vpn/P8ARf8AfVB1fTAD/p0fT+9R9hRDafMZvjD/AF0P0b+dY1ania+tb2WM2swfbuzj61l0AFFFFABRRRQB1nwI1DUNK+M/hfU9K1zT9MubfXLaSDUtWi8y1tGEgIllU/eRfvEdwK/TrTvjT8ULbWtKa7/4K5/CS3TUr5BajRfBYYT7Zdvyjy8HkkDPrX5M19+/8E3Jfipb/ARdSb4gfAvS9Pg1Of8A4R+6+JXhpdQ1bScMglubYgbkQOykBiV3AnAGaAPhz4h2M2leNtW0m4vRcSWuqXMUkwj2hyszjcB2z1x2zWLXUfGuw1PS/i74o0zWfEQ1i7tvEV9FdastuYheSLO4abYQCu4gnb2zjtXL0AKqksCD90jH1/lX1r+0Dda58Sfiz+z7+z1468d62vgfU/BHglbjRZtTlW1t/PgSCW4hjkJjjmMbsm8DOD7Zr5KU7cE45bjnn/GvYf2jPi/8LviTp/gTxh8Ntf8AFdj4o8LeDdG0S+spvD9va28UljBsa5gu47oyS5lVMDyEGDzIGBQnWHq/yIndQuj379rT4X/Ca5+Anxft7mH4e2nif4d+NrFNH034feEjZf2LZXMxtRpt9frDEdRuGUF3J8543tJGE7lmUfEJBzuLgE4KjDAHLADt93JXkcZ3DtmvQPiz+1J8dvjHpUfh/wCJHi2K6tftsd5cJZaHbWUupXCIIhPctbwxSX8yxghJZjJKvmO5ZWZicr4s/HH4pfHG60W7+KfidtUm8P6Hb6LpT/ZIIDBp8H+rh/cogcqxY7yCxGAScZOcYtyujWOkUdp+wR8MfDHxl/a08HfDXxhpH9oaZcXN1czaRJOQl9Jb209xFC4YsmHlSNTlcfOw5wN3pP7XfhL4Y65+yX4f+LdprPgS/wDFel/EK+8P65qnwy8Mx6VpUsTw/altlxFGl29v5aFbjYCyXACyS7Gc/Mng7xb4q8A+JrLxh4K1250nVtNvFurO/tCY2trhQCsq567VXIDZXLEbTmum+LP7Q3xf+OE9ovj/AF+3kSweeW0stM0W2023S5lZnkmWCyhiXzpCqiWV0EjhI1Z9saqLn+8lC21/1Cn8cvkcWQEJYgDB5CK2AO3XnHoehrpfg/4t8KeAvG8HiPxN8PbTxPFaQObDStRvWjtXui/7prhYcPPCr7iYFaMSMwLOduDY+NXx2+J37RXjl/iZ8XvE51nWZLKK0F6bO3gIgjACKFto0QkADJIJbvWT4D8ba38O/EsXiXw7a6Nc3MabFTXfDtlq1uinGP8ARr2CaFnByVbYzJwFC8VpCajVTaurmVT3krHqH/BQ3wx4Z8GftsfELw34K0Ww0rS9P1hY7TT9MtEgtrUNAuAsaBY04IIAwAcDAHA8XCrx5T5AIAdui5GQM/TuOD616N49/an+OnxJ+LGlfHLxfrWmN4s0e/S+tddtvC2n2btNE4kEky28EQnIZIz+9BJwc53EDlPiX8R/GPxi8e6p8UfiNrDalrut3Rn1LUTFGjzsTuJ2xqqKS3JwoHsK56cOSN292azcpWWx7Z+wp8L/AAv4p8LfFD4l6nD4VOo+D/C9pJor+O4YrjStOF1eLDPfS28kUqTvHGZfLhEMgeR4yI5ZcAx/8FD/AAj8LdA8f+C/FfwrfTUtPFnw9sNU1GXSNDXSrO6ulkntXvorPOLWGcWsciptTYpAKocqPI/hT8X/AIhfBjxBceKvhtr6Wk95YXGn6jbTabBe2t9a3CFJbe4triKWC5iY4JV0YKyK3ysqld/Rf2sfj9oXxn0z9oPQvHot/FekwCDRr6DSrVba0iSF4FhgtBH9mSNYXZEjWLYo5wTg1tVu5kpOD11Nb9hPxx448F/tb+AF8G+L9Y0VtW8YaXp+rtpGqzWzXVpJeWweGUo+HT5ANrBhgkYwa4/49AL8c/GgAUf8VZqPCoFH/H1J0UcD6DpW7+zh8Rvh/wCF/wBofRfjX8adf8QR2+jeILbXJX0Dw9DfS3l1FdpN5LCS4t0hVwHJkDPsP/LM545L4neJbDxn8SfEPjDSopUtdV1y7vLZJ1AdY5ZndQwBIzhhnBI9DRU/3mn6Md70zDoooqVsStgy3980Zb++aKKYwy3980Zb++aKKADLf3zRlv75oooAMt/fNGW/vmiigAGe7kV0vir4OfFfwR4bs/F3jH4faxpmmagsZs769smjil3xiRQGI7owIzjI5GRzXORJJJKscLAOzAKSwAB7cnpX0j+0Kur+BPgdc+Fofih4f8a6h4nu9P1Lxt4nt/HemXztLFGRb2dvbR3DT4i8wiSYxgkrgYQHcf8ALpS8wj79RpbI+bMnGKKKKACiiigAooooAs6NZW2pava6de6nFZQ3Fwkct5OGKQKzAF2CgnABycAnAr7n/Zz8O/Dv4HeEFiH/AAUe8J6FpumeO7mbSpP+EAk1BL1oP3RYStGcxSowLQMem1ujBm+D6+s/2bvjb/wT+tv2UrD4MftYeFfGGt6jY+Kr3V7SDRNSktobdpooYjyqkPuSFOp+Ug4+8aAPn39oXVYNc+PHjXWLbxfD4gjufFmoyRa9bwCOPUUNzJtuVQcKsgw4A6BsVx1dH8Xr34caj8UfEV/8IdKurHwvPrl1J4dsr2QvLBYmQmCN2PJZUwCe+K5ygBVGSCScBunPP+eK+n/jf4M03xr8R/gT+zb4e8P+G9E0vxL4R8Iy3mpaT4SsY703l9Esc0813BELmYsSzeW8hjZsblz81fMA3Agjpu6+h+np7/4GveP2nfiP4M8QH4X/ABb+Evxr0q41jwz4D8PaRJpKWmoJe6VeWUAd5C09sbd4hOACY5JG54Tb81L+X1f5Ey+A9N/aj/ZL+Efhj4D/ABG8T6H8LdA8D634A8VWkOn6fY+LLjUNQ1LRJ3W2WXVYfNljs7h2ZJUWMRScyr9nCKrP8cu6HLGZSTksAVyVG0lsJkAYY+nIxivV/jL+1942+Muia1ocHgHwr4dPijV49V8X6h4bsJo5te1CJWWOW7aSeVVCvJLJ5NuIomkkaQhn2uOV+Lnxcb4s3uj3SfDXwp4WXRdCt9NWDwppDWi3ZhYlbm5DO5luGzl3yAxycDOBL+LQ1j8KOk/Yy+C+gfH/APab8K/CjxVHeSabeS3Euo2ul4M1xFb20t09rGTwGmCBNxJKqQQRnFek/tcfs6fD7wl+zn4e+MHh/wAB+E/CHiWPxpdeHvEHhfwx4suNYt4GZGmtxLK806w3gSGRZIIpGIUxsUjZzCng3wm+KXjH4I/EPSfir8NdTNlrOiXhns7hl3JkqQY36GQMvykcfKSAec10Pxe/aN1j4s+G7HwZpHw/8L+EfDVnqVzqMPhvwlBcrZzX1wAktxILi4uJGcoscQVmCRxx7Y44sk1UmpKK/rcmn/EkefZEjboizjcQCShOfT5eAR0PcV0vwfufhVF4ztLz4r6XqmraTGjumlaDcpC2oXGcRwGZsiBGYIXkVXI8vtuGLHxt+LA+Nnjh/G7/AA18KeFN9lFajR/BmkfYLFBGABIId7gSHHLZIJzxzWX4K8VaR4R8Rp4j8RfD/R/FEKQPFJpXiCe/SHeRhG3WVzBICPl2/vAnHKnNXTko1I3WlyKlrKx337c/wz8AfB39rPxx8N/hpoEOlaDperCHTrSGV5FjhNuvyozszSYO5jyxCKWJPNeTkyMTvwHK52lwd7dwNv3iO/8AWvUvjH+1Vf8Axr+O8X7RevfBrwRDrg1aO/1e0tILyaw1ueMptW6gmvJCyYQKyRGIFdwzg8cV8TvGg+JHxA1XxufCWj+Hxql95z6N4Zsja2dsASRFBGWYxqD2z0AFYRTpp311Nakk0rHrf7FP7P2kfFvSviF8R9U+HaeMW8D6DDNY+GNR1F7Gwurm5mSISXt0ksHlWdvGJbmTE0YCoS0gAbZH+3h8D/hr8HfiH4YvvhQNN/snxV4QstWe30PVpb+yhvlee3uktrmY5mh823kZHZjuQglmPzHgPgj8b/E3wUvdXbSfD2j65pPiTR5NI8SeHNcglay1O0Z4n2HypIpkkSZYpklhkR0dAQcbg23L+1Z4i1f4y6D8Ytf+FngfXLTwzoqaTo/gvVtDku9DttNjjeOOAwSzGWZVZ3kLvMzs5DM7HJO1ZqUlYiGjfMO/Yq1f7F+1F4G0W60HQNTtNf8AFGm6Xqlt4g8MWOpxvaXF5Asqol7DKsTEDiRFVwCRuFcp8a9PsNJ+Mvi7S9KsYbW1tvE+oRW9tbxhI4kW5kCoqgYAAAAA7V1f7Lev+CrX9qHw58UfiP480TwjpOh+KrPW7yS5sb6WJ0ivYpWtoEtLedlfYGZfMCR7V5cEqG434ua9pXij4s+JPEmh3qS2eq+I724spXzH5iSTu8b4fB2lTnpnpxniiV/bQk9rfqPToc/RQCrAMmcEZG4EHHuDU2m/8hG3/wCu6fzFTH4UIhortKKYHF0V2lFAHF0V2lFAHF0V2lFAHFkBgVYZB6igjJ3Ec+v+fxrtKMHkY5AOR6dqPINtji6K2fGH+uh+jfzrGoAKKKKACiiigAooooAKKKKAFA34VmwueQO/+f6V9E/Gr4PeA7vxh8HvgB8LPhjpGjaz428NeF7y98Tre6hLd3l5qESpJG6SXTQiMu2/EUSNuG0OBwPneIEtgdzk49q+jf2nvEeoaDrfwd/aE+GvjLw3qC+Hfh74Yt7dbDxPZ3dza6hZwGSSKezglN1EUlTBLRgDkEij+X1f5CmvcNj9on9hbwJ4K+AHin4y+B9D8aaTH4P8SQaZ/aHxAuLT7P4q08ym2bVLGAwRS20CXBjXL+YhEyjzi6uq/K4Kb1RCoy20B5E3A/Kfug5OAc9Ow9a96+Pv7aGmfFjS/GEHg74XXvh7UfiNrlpqfj/UL7xU+pfa3tUIgt7RWgja0tkdnkWNmmKny0VxGhRvNPiz4y+F3jC50dvhd8I5PB8FnoNvaaxB/wAJJcaj/ad6hPm3pM4/dGQEfu1yFx1IwBDNI/CjF8E6H4e8Q+LNO0nxd4tHh/SpphHf63JYyXDWEecvMsMfzO+PlCkjGcsy4xXov7Y/wZ+G/wAEviBoGm/CvUNfn0jxF4E0jX4T4jnT7ZGb23E2w7FVT8p+4PMwcrvONx808NT+F7bxBZ3XjPRbzUNLjlX7fZ6bqC2lxNDnJjineKYQ54BOxhxyCMivTf2of2gPhp8epPDOpeD/AIVa74dv/Dfh7TtDSTUfGEN9DPZ2cYjjIjgsbUxTOAS7q20knaiDCiq3vwpxj03J+Fto8mEYVkRgFLZAURlB17BsZ/DI9M16l+yT8DdN+O/jzV7TxI+tPpnhnwzdeINS0/QIS2paisXlwwWdsu1wXlnmjj3FGCZYkHG2uW+NPiv4UeNfGsus/Bj4ODwJob2MMQ0D+3ZdT/fooDTGeVVY7iCdoAxnrW/+yx+0lrn7MPxEu/GWm6O1/Zatol3o+s6faai9lNJZXAUP5FygZ7eZSqskqg4YcqwyKq6nF9CZR5dTqf2zv2W9P/Z0svA/i7QtP1/RrTxd4dmubnwz4u1GG71TQ72FlE1vcTQRRgqY5IpcMkckYmUSxxEHHhpjVHMaowK8Yx3HG3rXqXj/APaB8GeNNT8AeGIPhPND8P8A4fDy7Dwrd+ImlvL6OW6FzeGe/jhixJM2VV4oYhEoQKpK5PD/ABL1zwV4o8e6n4g+HfgBPC2hXV6JtL8PrqL3n9nxgnEXnuFaUBcDcwz3OSSayWjQb6noX7K37OulfGi08W+OfE+l+ItW0vwfo1vMPD3hK3B1XV726uxa2tvbsLeZoQZCWZxHLhYchGLjFn9tv9mXTv2Y/iTomhaIupppeueHbTWILHXL2K5utKlzJFc2M9xbgRSPHNDIhKgHepXy06Vkfs1ftKXnwBTxZ4bv/D1zqnhvxx4bk0bxHYaZrLabetGSGilgu1SQxOjKF2sjxPGXjaMh2J0Ne/aN+GXjT4xeE/FHj74AJq/gfwb4aj0HSvBEvieeGaWzjSRkaa+hRWMxuJXnd44o0YkqEUdLqe9UTiOG+vcyf2QLHwVr/wC0R4P8CfEf4c6Z4n0nxJr+n6Td2up3d7B5KXF1DG08bWdxC3mBCygOzx4bJQkKV6n4I+E/hgP244fgj4t+EukeIPDutfEUeHfsepahqUD2drLqCwExSWd3C5YRjAMhcZJJBrJ/ZAsbHW/2t/CfiqyvND0DR9G8W2Gs3S694qtLFLWxhv42dVlvZYhOyJt+VCzkDOK6b4EWthrf/BQ2z8fweMvDNtoujfFWPV73V9V8UWVhbNaJqfmmSKS7liWbKAsBGWJHQc1rdKon0UX99xpaJni/xH0uw0T4h6/oulW/lWtnrV1BbRFy2yNJmVRk8ngDk8nvWXpv/IRt/wDrun8xWx8Urq0v/ib4jvrC7iuIJtevJIZ4XDJIhmchlI4IIIIPcGsjTf8AkI2//XdP5isKatTS8hySUmjraKXb/tD86Nv+0PzqyRKKXb/tD86Nv+0PzoASil2/7Q/Ojb/tD86AEopdv+0Pzo2/7Q/OgBDtx82Md8jNe6fGDxDpvif9jD4fXVj4M0nRxZ+KdUtPL0yAhpilta7ppXcs0kjMXJYnvjoK8MKkjAYfzqR7q7a0+xNeSNArs8cLSHapI5IHQE4GfXAoA5/xh/rofo386xq2fF7Zlh47N/OsagAooooAKKKKACiiigAooooAQht25WAwODtB55oljWcMkvIIIVm+cj5cKBuyBjk8euKWijt5O/6B0sKx3EnGM9vSkoopWQ02kFFFFNbiCiiij7NgCiiip5UAUcd6KKpaADFycgg4IYBwWAYY7ZwRgdOmeaNq/cGduwqPXHT/AHemeMd/aiinfqO9gHAxx+C4H5ClR3jcSRsQynKkdjSUUkrIG+Z3LP8AbGq/8/8AL/33R/bGq/8AP/L/AN91WooEWf7Y1X/n/l/77o/tjVf+f+X/AL7qtRQBZ/tjVf8An/l/77o/tjVf+f8Al/77qtRQBZ/tjVf+f+X/AL7o/tjVf+f+X/vuq1FAFn+2NV/5/wCX/vug6vqhGDfyn/gdVqKAJbm8urwqbmZn2525PSoqKKACiiigD//Z)\n",
        "\n",
        "Teraz existuje pre `price_range` jedna jedinečná binárna hodnota. Nové vytvorené pole bude mať tvar ('**n**' * počet tried), kde n je počet riadkov v datasete."
      ]
    },
    {
      "cell_type": "code",
      "metadata": {
        "colab": {
          "base_uri": "https://localhost:8080/"
        },
        "id": "T7Y9uuCgJ9Ny",
        "outputId": "1841bff5-bdb7-4383-c29b-e15b0bc0eddd"
      },
      "source": [
        "# vytvoríme nový OneHotEncoder\n",
        "one_hot_encoder = OneHotEncoder()\n",
        "# aplikujeme metódu 'fit_transfrom' z novo vytvoreného OneHotEncoder na pole \n",
        "# tried 'y', ktorá sa prispôsobí údajom a potom ich transformuje do pola. \n",
        "y = one_hot_encoder.fit_transform(y).toarray()\n",
        "# následne vypíšeme prvých 5. riadkov už z transformovaného pola\n",
        "print(y[0:5])"
      ],
      "execution_count": 5,
      "outputs": [
        {
          "output_type": "stream",
          "text": [
            "[[0. 1. 0. 0.]\n",
            " [0. 0. 1. 0.]\n",
            " [0. 0. 1. 0.]\n",
            " [0. 0. 1. 0.]\n",
            " [0. 1. 0. 0.]]\n"
          ],
          "name": "stdout"
        }
      ]
    },
    {
      "cell_type": "markdown",
      "metadata": {
        "id": "AZu5wXtcdCAo"
      },
      "source": [
        "### Rozdelenie dát na trénovacie a testovacie"
      ]
    },
    {
      "cell_type": "markdown",
      "metadata": {
        "id": "4ff9fbhcdN9a"
      },
      "source": [
        "Predtým než prejdem k budovaniu neurónovej siete je dôležité si rozdeliť dateset na dáta ***trénovacie*** a dáta ***testovacie***, kde na trénovacich dátach budem neurónovú sieť trénovať a na už testovanie natrénovanej neurónovej siete použijem testovacie dáta.\n",
        "\n",
        "Na rozdelenie dát použijem funkciu `train_test_split` z knižnice `sklearn.model_selection`. Veľkosť trénovacich a testovacích dát určuje parameter `test_size`, kde napríklad hodnota ***0.2*** bude znamenať že budeme mať ***80%*** trénovacich dát a ***20%*** dát bude testovacích. \n"
      ]
    },
    {
      "cell_type": "code",
      "metadata": {
        "colab": {
          "base_uri": "https://localhost:8080/"
        },
        "id": "wuH20pGlT5Ef",
        "outputId": "05bb5a7b-68d1-4c90-c867-fa3a1dc5b246"
      },
      "source": [
        "# pomocou 'train_test_split' vytvoríme nasledovné premenné: \n",
        "# X_train kde budú uložené trénovacie dáta z pola 'X' (vlastnosti telefónov) v danom pomere test_size\n",
        "# X_test kde budú uložené testovacie dáta z pola 'X' (vlastnosti telefónov) v danom pomere test_size\n",
        "# y_train kde budú uložené trénovacie dáta z pola 'y' (cenové kategórie telefónov) v danom pomere test_size\n",
        "# y_test kde budú uložené testovacie dáta z pola 'y' (cenové kategórie telefónov) v danom pomere test_size\n",
        "X_train, X_test, y_train, y_test = train_test_split(X,y,test_size = 0.1)\n",
        "# vypíšeme prvých 5 riadkov z každej premennej \n",
        "print(\"X - trénovacie dáta: \\n\" + str(X_train[0:5]) + \"\\n\")\n",
        "print(\"X - testovacie dáta: \\n\" + str(X_test[0:5]) + \"\\n\")\n",
        "print(\"y - trénovacie dáta: \\n\" + str(y_train[0:5]) + \"\\n\")\n",
        "print(\"y - testovacie dáta: \\n\" + str(y_test[0:5]) + \"\\n\")"
      ],
      "execution_count": 6,
      "outputs": [
        {
          "output_type": "stream",
          "text": [
            "X - trénovacie dáta: \n",
            "[[-0.90032095 -0.9900495  -0.27243191  0.98117712 -0.76249466 -1.04396559\n",
            "  -0.88453462  1.38116548 -0.60041021  1.08404594 -0.97586945 -0.11744769\n",
            "  -1.20232784 -0.35982213  1.11426556  0.51270767  0.54717644 -1.78686097\n",
            "  -1.00601811  0.98609664]\n",
            " [ 1.68556214  1.0100505   0.0953052   0.98117712 -0.99289039 -1.04396559\n",
            "  -0.00256323 -1.04649512  0.69936247  1.08404594 -1.47069043  0.42349508\n",
            "   0.87593624 -1.5419764   0.16464114  0.05349793  0.54717644 -1.78686097\n",
            "   0.99401789 -1.01409939]\n",
            " [-1.3305427   1.0100505  -0.27243191 -1.01918398 -0.99289039  0.95788598\n",
            "   1.09990101  0.68754816  1.57529623 -0.22756439 -0.97586945  2.41145977\n",
            "   1.4961754  -1.00345994  1.11426556 -0.4057118   0.36411306  0.55964063\n",
            "  -1.00601811 -1.01409939]\n",
            " [ 0.58838287  1.0100505  -0.76274805  0.98117712 -0.07130748  0.95788598\n",
            "  -1.2152739  -1.39330378  0.36029134  1.52124939  1.66317579 -1.23314216\n",
            "  -0.63531815  1.44937185 -0.78498329 -1.32413127 -1.46652072  0.55964063\n",
            "  -1.00601811  0.98609664]\n",
            " [ 0.29018684  1.0100505   0.21788424  0.98117712  0.15908825  0.95788598\n",
            "   1.15502422 -1.04649512  0.58633876  0.20963905 -0.15116781  0.00426443\n",
            "   1.44526025  1.60889813  1.11426556 -0.17610693  0.54717644  0.55964063\n",
            "  -1.00601811  0.98609664]]\n",
            "\n",
            "X - testovacie dáta: \n",
            "[[-1.44663428  1.0100505   1.19851653  0.98117712 -0.30170321 -1.04396559\n",
            "   0.16280641  0.68754816 -0.40261872 -0.66476784  1.00341448  0.1056912\n",
            "  -0.45017213  1.45582668  0.16464114 -1.0945264  -0.36814045 -1.78686097\n",
            "  -1.00601811  0.98609664]\n",
            " [-0.95267598 -0.9900495  -1.2530642   0.98117712 -0.53209893 -1.04396559\n",
            "   1.43064028 -0.69968647  0.55808283 -0.22756439 -0.97586945 -0.39918872\n",
            "  -1.2902722  -0.77477487  1.11426556  0.2831028   1.09636657 -1.78686097\n",
            "  -1.00601811  0.98609664]\n",
            " [ 0.15588482 -0.9900495   0.34046327 -1.01918398 -0.53209893 -1.04396559\n",
            "  -1.38064353  0.34073951 -1.47634397  1.08404594 -1.14080978  0.56774649\n",
            "  -0.34371317 -0.65674387  0.87685946  0.74231254 -1.10039396 -1.78686097\n",
            "  -1.00601811  0.98609664]\n",
            " [-0.15141643 -0.9900495   0.46304231 -1.01918398 -0.99289039  0.95788598\n",
            "  -0.27817929  0.68754816  0.67110654 -1.53917473 -1.14080978 -0.0858927\n",
            "  -0.36917075 -0.59680625 -0.07276497 -1.32413127 -0.91733059  0.55964063\n",
            "  -1.00601811 -1.01409939]\n",
            " [ 0.03296432  1.0100505  -1.2530642   0.98117712  0.15908825  0.95788598\n",
            "  -1.49088996 -1.04649512  0.33203541 -1.10197128  1.49823547  0.0899137\n",
            "  -1.24398569 -0.22703725  0.63945335 -1.32413127 -1.28345734  0.55964063\n",
            "   0.99401789 -1.01409939]]\n",
            "\n",
            "y - trénovacie dáta: \n",
            "[[0. 1. 0. 0.]\n",
            " [1. 0. 0. 0.]\n",
            " [0. 1. 0. 0.]\n",
            " [0. 0. 0. 1.]\n",
            " [0. 0. 0. 1.]]\n",
            "\n",
            "y - testovacie dáta: \n",
            "[[0. 0. 0. 1.]\n",
            " [1. 0. 0. 0.]\n",
            " [0. 1. 0. 0.]\n",
            " [0. 1. 0. 0.]\n",
            " [0. 1. 0. 0.]]\n",
            "\n"
          ],
          "name": "stdout"
        }
      ]
    },
    {
      "cell_type": "markdown",
      "metadata": {
        "id": "qLKdFUGrhCT9"
      },
      "source": [
        "##2. Neurónová sieť"
      ]
    },
    {
      "cell_type": "markdown",
      "metadata": {
        "id": "szze8r3nDtpi"
      },
      "source": [
        "### Modelovanie"
      ]
    },
    {
      "cell_type": "markdown",
      "metadata": {
        "id": "3xpTny_xxuxa"
      },
      "source": [
        "Na modelovanie neurónovej siete som použil ***Keras***, čo je knižnica neurónovej siete s otvoreným zdrojovým kódom napísaná v jazyku Python. Je navrhnutá tak, aby umožňovala rýchle experimenty s hlbokými neurónovými sieťami. Primárnym dôvodom, prečo som si vybral práve ***Keras*** je jeho užívateľská prívetivosť, modulárnosť a ľahká implementácia. "
      ]
    },
    {
      "cell_type": "code",
      "metadata": {
        "id": "n5aPV1CUhE6G",
        "colab": {
          "base_uri": "https://localhost:8080/"
        },
        "outputId": "c656ec37-05e7-4aaa-a8f6-e0e21424d0be"
      },
      "source": [
        "# keďže máme jeden vstup a očakávame jeden výstup, vytvárame sekvenčný model.\n",
        "# výstup každej pridanej vrstvy je vstupom do ďalšej vrstvy. \n",
        "neural_network = Sequential()\n",
        "# pomocou '.add' pridávame vrstvy do neurónovej siete. \n",
        "# argumenty ktoré vstupujú do Dense vrsty je:\n",
        "# výstup dimenzia, ktorá je v prvom prípade 16\n",
        "# vstupná dimenzia v prvej vrstve, ktorá sa rovná počtu elementov, v našom prípade to je 20\n",
        "# a aktivačná funkcia \n",
        "neural_network.add(Dense(16, input_dim=20, activation='relu'))\n",
        "neural_network.add(Dense(12, activation='relu'))\n",
        "# výstupná dimenzia vo výstupnej vrtsve je rovná 4, čo predstavuje cenovú kategóriu\n",
        "# telefónov\n",
        "# aktivačná funkcia je v tomto prípade 'softmax' keďže klasifikujeme viaceré triedy \n",
        "neural_network.add(Dense(4, activation='softmax'))\n",
        "# nakoniec skontrolujeme, či vrstvy modelu vydávajú dáta správne a či sú parametre správne\n",
        "# pomocou metódy summery() \n",
        "neural_network.summary()"
      ],
      "execution_count": 7,
      "outputs": [
        {
          "output_type": "stream",
          "text": [
            "Model: \"sequential\"\n",
            "_________________________________________________________________\n",
            "Layer (type)                 Output Shape              Param #   \n",
            "=================================================================\n",
            "dense (Dense)                (None, 16)                336       \n",
            "_________________________________________________________________\n",
            "dense_1 (Dense)              (None, 12)                204       \n",
            "_________________________________________________________________\n",
            "dense_2 (Dense)              (None, 4)                 52        \n",
            "=================================================================\n",
            "Total params: 592\n",
            "Trainable params: 592\n",
            "Non-trainable params: 0\n",
            "_________________________________________________________________\n"
          ],
          "name": "stdout"
        }
      ]
    },
    {
      "cell_type": "markdown",
      "metadata": {
        "id": "vZpKw9AZ-roU"
      },
      "source": [
        "Na špecifikovanie stratovej funkcie a optimalizátora použijem funkciu `compile`\n",
        "\n",
        "* Keďže mám viaceré cenové triedy telefónov, ako stratovú funkciu použijem `categorical_crossentropy`.\n",
        "* Optimalizátorom som si pre 1. pokus zvolil `adam`.\n",
        "* `metrics` sa používajú na určenie spôsobu, akým chceme hodnotiť výkon neurónovej siete. Tu som to špecifikoval na `accuracy` (presnosť).  "
      ]
    },
    {
      "cell_type": "code",
      "metadata": {
        "id": "HaNRMJzkwTgD"
      },
      "source": [
        "neural_network.compile(loss='categorical_crossentropy', optimizer='adam', metrics=['accuracy'])"
      ],
      "execution_count": 8,
      "outputs": []
    },
    {
      "cell_type": "markdown",
      "metadata": {
        "id": "MLR8fNtHDzd_"
      },
      "source": [
        "### Trénovanie"
      ]
    },
    {
      "cell_type": "markdown",
      "metadata": {
        "id": "_yoVTPlBF8j6"
      },
      "source": [
        "Na trénovanie neurónovej siete použijem funkciu `fit` kde zadám:\n",
        "* vytvorené trénovacie dáta ***x*** a ***y***\n",
        "* počet iterácií (pre začiatok som si zvolil 150)\n",
        "* `batch_size`, ktorý slúži k tomu, keď máme veľký dataset aby sme netrénovali \n",
        "veľa dát naraz ale v menších častiach postupne"
      ]
    },
    {
      "cell_type": "code",
      "metadata": {
        "colab": {
          "base_uri": "https://localhost:8080/"
        },
        "id": "P-c2iFgE-fM0",
        "outputId": "b577588e-4d59-4269-f2b2-270f8981ac0b"
      },
      "source": [
        "network_training = neural_network.fit(X_train, y_train, validation_data = (X_test,y_test), epochs=100, batch_size=50, shuffle=True)"
      ],
      "execution_count": 9,
      "outputs": [
        {
          "output_type": "stream",
          "text": [
            "Epoch 1/100\n",
            "20/20 [==============================] - 1s 27ms/step - loss: 1.4867 - accuracy: 0.2362 - val_loss: 1.4298 - val_accuracy: 0.2680\n",
            "Epoch 2/100\n",
            "20/20 [==============================] - 0s 4ms/step - loss: 1.4378 - accuracy: 0.2302 - val_loss: 1.4026 - val_accuracy: 0.2920\n",
            "Epoch 3/100\n",
            "20/20 [==============================] - 0s 4ms/step - loss: 1.3932 - accuracy: 0.2906 - val_loss: 1.3822 - val_accuracy: 0.3130\n",
            "Epoch 4/100\n",
            "20/20 [==============================] - 0s 4ms/step - loss: 1.3752 - accuracy: 0.2913 - val_loss: 1.3632 - val_accuracy: 0.3460\n",
            "Epoch 5/100\n",
            "20/20 [==============================] - 0s 4ms/step - loss: 1.3414 - accuracy: 0.3539 - val_loss: 1.3423 - val_accuracy: 0.3770\n",
            "Epoch 6/100\n",
            "20/20 [==============================] - 0s 4ms/step - loss: 1.3176 - accuracy: 0.3955 - val_loss: 1.3182 - val_accuracy: 0.4100\n",
            "Epoch 7/100\n",
            "20/20 [==============================] - 0s 4ms/step - loss: 1.2879 - accuracy: 0.4273 - val_loss: 1.2877 - val_accuracy: 0.4280\n",
            "Epoch 8/100\n",
            "20/20 [==============================] - 0s 4ms/step - loss: 1.2668 - accuracy: 0.4397 - val_loss: 1.2499 - val_accuracy: 0.4540\n",
            "Epoch 9/100\n",
            "20/20 [==============================] - 0s 4ms/step - loss: 1.1998 - accuracy: 0.5068 - val_loss: 1.2030 - val_accuracy: 0.4720\n",
            "Epoch 10/100\n",
            "20/20 [==============================] - 0s 4ms/step - loss: 1.1403 - accuracy: 0.5245 - val_loss: 1.1492 - val_accuracy: 0.5000\n",
            "Epoch 11/100\n",
            "20/20 [==============================] - 0s 4ms/step - loss: 1.0993 - accuracy: 0.5426 - val_loss: 1.0911 - val_accuracy: 0.5360\n",
            "Epoch 12/100\n",
            "20/20 [==============================] - 0s 4ms/step - loss: 1.0243 - accuracy: 0.5963 - val_loss: 1.0316 - val_accuracy: 0.5540\n",
            "Epoch 13/100\n",
            "20/20 [==============================] - 0s 4ms/step - loss: 0.9573 - accuracy: 0.6083 - val_loss: 0.9722 - val_accuracy: 0.5740\n",
            "Epoch 14/100\n",
            "20/20 [==============================] - 0s 4ms/step - loss: 0.9069 - accuracy: 0.6392 - val_loss: 0.9157 - val_accuracy: 0.5970\n",
            "Epoch 15/100\n",
            "20/20 [==============================] - 0s 4ms/step - loss: 0.8470 - accuracy: 0.6637 - val_loss: 0.8611 - val_accuracy: 0.6210\n",
            "Epoch 16/100\n",
            "20/20 [==============================] - 0s 4ms/step - loss: 0.7839 - accuracy: 0.6900 - val_loss: 0.8106 - val_accuracy: 0.6500\n",
            "Epoch 17/100\n",
            "20/20 [==============================] - 0s 4ms/step - loss: 0.7487 - accuracy: 0.7047 - val_loss: 0.7628 - val_accuracy: 0.6720\n",
            "Epoch 18/100\n",
            "20/20 [==============================] - 0s 4ms/step - loss: 0.7063 - accuracy: 0.7344 - val_loss: 0.7193 - val_accuracy: 0.6880\n",
            "Epoch 19/100\n",
            "20/20 [==============================] - 0s 4ms/step - loss: 0.6628 - accuracy: 0.7528 - val_loss: 0.6797 - val_accuracy: 0.7050\n",
            "Epoch 20/100\n",
            "20/20 [==============================] - 0s 4ms/step - loss: 0.5919 - accuracy: 0.7987 - val_loss: 0.6448 - val_accuracy: 0.7180\n",
            "Epoch 21/100\n",
            "20/20 [==============================] - 0s 5ms/step - loss: 0.5822 - accuracy: 0.8179 - val_loss: 0.6132 - val_accuracy: 0.7400\n",
            "Epoch 22/100\n",
            "20/20 [==============================] - 0s 4ms/step - loss: 0.5309 - accuracy: 0.8352 - val_loss: 0.5844 - val_accuracy: 0.7590\n",
            "Epoch 23/100\n",
            "20/20 [==============================] - 0s 4ms/step - loss: 0.5156 - accuracy: 0.8452 - val_loss: 0.5573 - val_accuracy: 0.7850\n",
            "Epoch 24/100\n",
            "20/20 [==============================] - 0s 4ms/step - loss: 0.4610 - accuracy: 0.8787 - val_loss: 0.5341 - val_accuracy: 0.7900\n",
            "Epoch 25/100\n",
            "20/20 [==============================] - 0s 4ms/step - loss: 0.4502 - accuracy: 0.8723 - val_loss: 0.5125 - val_accuracy: 0.7990\n",
            "Epoch 26/100\n",
            "20/20 [==============================] - 0s 4ms/step - loss: 0.4194 - accuracy: 0.8823 - val_loss: 0.4922 - val_accuracy: 0.8110\n",
            "Epoch 27/100\n",
            "20/20 [==============================] - 0s 4ms/step - loss: 0.4231 - accuracy: 0.8764 - val_loss: 0.4744 - val_accuracy: 0.8170\n",
            "Epoch 28/100\n",
            "20/20 [==============================] - 0s 4ms/step - loss: 0.4025 - accuracy: 0.8872 - val_loss: 0.4558 - val_accuracy: 0.8310\n",
            "Epoch 29/100\n",
            "20/20 [==============================] - 0s 4ms/step - loss: 0.3768 - accuracy: 0.9031 - val_loss: 0.4392 - val_accuracy: 0.8410\n",
            "Epoch 30/100\n",
            "20/20 [==============================] - 0s 4ms/step - loss: 0.3571 - accuracy: 0.9132 - val_loss: 0.4257 - val_accuracy: 0.8440\n",
            "Epoch 31/100\n",
            "20/20 [==============================] - 0s 4ms/step - loss: 0.3334 - accuracy: 0.9070 - val_loss: 0.4118 - val_accuracy: 0.8520\n",
            "Epoch 32/100\n",
            "20/20 [==============================] - 0s 4ms/step - loss: 0.3123 - accuracy: 0.9175 - val_loss: 0.4015 - val_accuracy: 0.8540\n",
            "Epoch 33/100\n",
            "20/20 [==============================] - 0s 4ms/step - loss: 0.2973 - accuracy: 0.9228 - val_loss: 0.3878 - val_accuracy: 0.8570\n",
            "Epoch 34/100\n",
            "20/20 [==============================] - 0s 4ms/step - loss: 0.2900 - accuracy: 0.9237 - val_loss: 0.3788 - val_accuracy: 0.8640\n",
            "Epoch 35/100\n",
            "20/20 [==============================] - 0s 4ms/step - loss: 0.2707 - accuracy: 0.9334 - val_loss: 0.3677 - val_accuracy: 0.8680\n",
            "Epoch 36/100\n",
            "20/20 [==============================] - 0s 4ms/step - loss: 0.2558 - accuracy: 0.9420 - val_loss: 0.3594 - val_accuracy: 0.8670\n",
            "Epoch 37/100\n",
            "20/20 [==============================] - 0s 4ms/step - loss: 0.2567 - accuracy: 0.9429 - val_loss: 0.3511 - val_accuracy: 0.8660\n",
            "Epoch 38/100\n",
            "20/20 [==============================] - 0s 4ms/step - loss: 0.2560 - accuracy: 0.9320 - val_loss: 0.3448 - val_accuracy: 0.8700\n",
            "Epoch 39/100\n",
            "20/20 [==============================] - 0s 4ms/step - loss: 0.2353 - accuracy: 0.9398 - val_loss: 0.3366 - val_accuracy: 0.8680\n",
            "Epoch 40/100\n",
            "20/20 [==============================] - 0s 4ms/step - loss: 0.2224 - accuracy: 0.9473 - val_loss: 0.3317 - val_accuracy: 0.8720\n",
            "Epoch 41/100\n",
            "20/20 [==============================] - 0s 4ms/step - loss: 0.2153 - accuracy: 0.9553 - val_loss: 0.3249 - val_accuracy: 0.8730\n",
            "Epoch 42/100\n",
            "20/20 [==============================] - 0s 4ms/step - loss: 0.2212 - accuracy: 0.9377 - val_loss: 0.3187 - val_accuracy: 0.8740\n",
            "Epoch 43/100\n",
            "20/20 [==============================] - 0s 4ms/step - loss: 0.1976 - accuracy: 0.9602 - val_loss: 0.3148 - val_accuracy: 0.8730\n",
            "Epoch 44/100\n",
            "20/20 [==============================] - 0s 4ms/step - loss: 0.1878 - accuracy: 0.9631 - val_loss: 0.3100 - val_accuracy: 0.8750\n",
            "Epoch 45/100\n",
            "20/20 [==============================] - 0s 4ms/step - loss: 0.1943 - accuracy: 0.9541 - val_loss: 0.3059 - val_accuracy: 0.8730\n",
            "Epoch 46/100\n",
            "20/20 [==============================] - 0s 4ms/step - loss: 0.1776 - accuracy: 0.9664 - val_loss: 0.3036 - val_accuracy: 0.8720\n",
            "Epoch 47/100\n",
            "20/20 [==============================] - 0s 4ms/step - loss: 0.1694 - accuracy: 0.9627 - val_loss: 0.2993 - val_accuracy: 0.8730\n",
            "Epoch 48/100\n",
            "20/20 [==============================] - 0s 4ms/step - loss: 0.1607 - accuracy: 0.9656 - val_loss: 0.2955 - val_accuracy: 0.8750\n",
            "Epoch 49/100\n",
            "20/20 [==============================] - 0s 4ms/step - loss: 0.1597 - accuracy: 0.9636 - val_loss: 0.2944 - val_accuracy: 0.8750\n",
            "Epoch 50/100\n",
            "20/20 [==============================] - 0s 4ms/step - loss: 0.1612 - accuracy: 0.9598 - val_loss: 0.2888 - val_accuracy: 0.8770\n",
            "Epoch 51/100\n",
            "20/20 [==============================] - 0s 4ms/step - loss: 0.1481 - accuracy: 0.9759 - val_loss: 0.2867 - val_accuracy: 0.8790\n",
            "Epoch 52/100\n",
            "20/20 [==============================] - 0s 4ms/step - loss: 0.1492 - accuracy: 0.9790 - val_loss: 0.2855 - val_accuracy: 0.8760\n",
            "Epoch 53/100\n",
            "20/20 [==============================] - 0s 4ms/step - loss: 0.1391 - accuracy: 0.9737 - val_loss: 0.2852 - val_accuracy: 0.8760\n",
            "Epoch 54/100\n",
            "20/20 [==============================] - 0s 4ms/step - loss: 0.1394 - accuracy: 0.9711 - val_loss: 0.2815 - val_accuracy: 0.8840\n",
            "Epoch 55/100\n",
            "20/20 [==============================] - 0s 4ms/step - loss: 0.1335 - accuracy: 0.9797 - val_loss: 0.2800 - val_accuracy: 0.8790\n",
            "Epoch 56/100\n",
            "20/20 [==============================] - 0s 4ms/step - loss: 0.1294 - accuracy: 0.9750 - val_loss: 0.2798 - val_accuracy: 0.8800\n",
            "Epoch 57/100\n",
            "20/20 [==============================] - 0s 4ms/step - loss: 0.1210 - accuracy: 0.9757 - val_loss: 0.2790 - val_accuracy: 0.8800\n",
            "Epoch 58/100\n",
            "20/20 [==============================] - 0s 4ms/step - loss: 0.1200 - accuracy: 0.9794 - val_loss: 0.2768 - val_accuracy: 0.8780\n",
            "Epoch 59/100\n",
            "20/20 [==============================] - 0s 4ms/step - loss: 0.1183 - accuracy: 0.9803 - val_loss: 0.2769 - val_accuracy: 0.8790\n",
            "Epoch 60/100\n",
            "20/20 [==============================] - 0s 4ms/step - loss: 0.1126 - accuracy: 0.9848 - val_loss: 0.2759 - val_accuracy: 0.8760\n",
            "Epoch 61/100\n",
            "20/20 [==============================] - 0s 4ms/step - loss: 0.1096 - accuracy: 0.9861 - val_loss: 0.2750 - val_accuracy: 0.8810\n",
            "Epoch 62/100\n",
            "20/20 [==============================] - 0s 4ms/step - loss: 0.1167 - accuracy: 0.9771 - val_loss: 0.2769 - val_accuracy: 0.8790\n",
            "Epoch 63/100\n",
            "20/20 [==============================] - 0s 4ms/step - loss: 0.1096 - accuracy: 0.9820 - val_loss: 0.2752 - val_accuracy: 0.8800\n",
            "Epoch 64/100\n",
            "20/20 [==============================] - 0s 4ms/step - loss: 0.1048 - accuracy: 0.9844 - val_loss: 0.2746 - val_accuracy: 0.8790\n",
            "Epoch 65/100\n",
            "20/20 [==============================] - 0s 4ms/step - loss: 0.1054 - accuracy: 0.9803 - val_loss: 0.2745 - val_accuracy: 0.8810\n",
            "Epoch 66/100\n",
            "20/20 [==============================] - 0s 4ms/step - loss: 0.0951 - accuracy: 0.9877 - val_loss: 0.2749 - val_accuracy: 0.8770\n",
            "Epoch 67/100\n",
            "20/20 [==============================] - 0s 4ms/step - loss: 0.0886 - accuracy: 0.9897 - val_loss: 0.2768 - val_accuracy: 0.8800\n",
            "Epoch 68/100\n",
            "20/20 [==============================] - 0s 4ms/step - loss: 0.0819 - accuracy: 0.9934 - val_loss: 0.2750 - val_accuracy: 0.8800\n",
            "Epoch 69/100\n",
            "20/20 [==============================] - 0s 4ms/step - loss: 0.0780 - accuracy: 0.9928 - val_loss: 0.2761 - val_accuracy: 0.8780\n",
            "Epoch 70/100\n",
            "20/20 [==============================] - 0s 4ms/step - loss: 0.0821 - accuracy: 0.9910 - val_loss: 0.2750 - val_accuracy: 0.8810\n",
            "Epoch 71/100\n",
            "20/20 [==============================] - 0s 4ms/step - loss: 0.0882 - accuracy: 0.9879 - val_loss: 0.2765 - val_accuracy: 0.8790\n",
            "Epoch 72/100\n",
            "20/20 [==============================] - 0s 4ms/step - loss: 0.0774 - accuracy: 0.9920 - val_loss: 0.2760 - val_accuracy: 0.8790\n",
            "Epoch 73/100\n",
            "20/20 [==============================] - 0s 4ms/step - loss: 0.0764 - accuracy: 0.9919 - val_loss: 0.2770 - val_accuracy: 0.8800\n",
            "Epoch 74/100\n",
            "20/20 [==============================] - 0s 4ms/step - loss: 0.0778 - accuracy: 0.9887 - val_loss: 0.2783 - val_accuracy: 0.8780\n",
            "Epoch 75/100\n",
            "20/20 [==============================] - 0s 4ms/step - loss: 0.0727 - accuracy: 0.9903 - val_loss: 0.2772 - val_accuracy: 0.8810\n",
            "Epoch 76/100\n",
            "20/20 [==============================] - 0s 4ms/step - loss: 0.0672 - accuracy: 0.9930 - val_loss: 0.2784 - val_accuracy: 0.8790\n",
            "Epoch 77/100\n",
            "20/20 [==============================] - 0s 4ms/step - loss: 0.0745 - accuracy: 0.9884 - val_loss: 0.2782 - val_accuracy: 0.8820\n",
            "Epoch 78/100\n",
            "20/20 [==============================] - 0s 4ms/step - loss: 0.0632 - accuracy: 0.9938 - val_loss: 0.2791 - val_accuracy: 0.8790\n",
            "Epoch 79/100\n",
            "20/20 [==============================] - 0s 4ms/step - loss: 0.0636 - accuracy: 0.9940 - val_loss: 0.2804 - val_accuracy: 0.8790\n",
            "Epoch 80/100\n",
            "20/20 [==============================] - 0s 4ms/step - loss: 0.0637 - accuracy: 0.9918 - val_loss: 0.2816 - val_accuracy: 0.8780\n",
            "Epoch 81/100\n",
            "20/20 [==============================] - 0s 4ms/step - loss: 0.0626 - accuracy: 0.9900 - val_loss: 0.2822 - val_accuracy: 0.8830\n",
            "Epoch 82/100\n",
            "20/20 [==============================] - 0s 4ms/step - loss: 0.0593 - accuracy: 0.9953 - val_loss: 0.2832 - val_accuracy: 0.8800\n",
            "Epoch 83/100\n",
            "20/20 [==============================] - 0s 4ms/step - loss: 0.0628 - accuracy: 0.9886 - val_loss: 0.2834 - val_accuracy: 0.8800\n",
            "Epoch 84/100\n",
            "20/20 [==============================] - 0s 4ms/step - loss: 0.0556 - accuracy: 0.9948 - val_loss: 0.2850 - val_accuracy: 0.8820\n",
            "Epoch 85/100\n",
            "20/20 [==============================] - 0s 4ms/step - loss: 0.0553 - accuracy: 0.9920 - val_loss: 0.2862 - val_accuracy: 0.8800\n",
            "Epoch 86/100\n",
            "20/20 [==============================] - 0s 4ms/step - loss: 0.0575 - accuracy: 0.9907 - val_loss: 0.2851 - val_accuracy: 0.8820\n",
            "Epoch 87/100\n",
            "20/20 [==============================] - 0s 4ms/step - loss: 0.0547 - accuracy: 0.9938 - val_loss: 0.2871 - val_accuracy: 0.8810\n",
            "Epoch 88/100\n",
            "20/20 [==============================] - 0s 4ms/step - loss: 0.0594 - accuracy: 0.9889 - val_loss: 0.2885 - val_accuracy: 0.8860\n",
            "Epoch 89/100\n",
            "20/20 [==============================] - 0s 4ms/step - loss: 0.0548 - accuracy: 0.9892 - val_loss: 0.2896 - val_accuracy: 0.8810\n",
            "Epoch 90/100\n",
            "20/20 [==============================] - 0s 4ms/step - loss: 0.0525 - accuracy: 0.9940 - val_loss: 0.2871 - val_accuracy: 0.8840\n",
            "Epoch 91/100\n",
            "20/20 [==============================] - 0s 4ms/step - loss: 0.0471 - accuracy: 0.9924 - val_loss: 0.2890 - val_accuracy: 0.8880\n",
            "Epoch 92/100\n",
            "20/20 [==============================] - 0s 4ms/step - loss: 0.0472 - accuracy: 0.9958 - val_loss: 0.2931 - val_accuracy: 0.8860\n",
            "Epoch 93/100\n",
            "20/20 [==============================] - 0s 4ms/step - loss: 0.0429 - accuracy: 0.9951 - val_loss: 0.2923 - val_accuracy: 0.8890\n",
            "Epoch 94/100\n",
            "20/20 [==============================] - 0s 4ms/step - loss: 0.0426 - accuracy: 0.9941 - val_loss: 0.2933 - val_accuracy: 0.8880\n",
            "Epoch 95/100\n",
            "20/20 [==============================] - 0s 4ms/step - loss: 0.0478 - accuracy: 0.9911 - val_loss: 0.2942 - val_accuracy: 0.8880\n",
            "Epoch 96/100\n",
            "20/20 [==============================] - 0s 4ms/step - loss: 0.0431 - accuracy: 0.9951 - val_loss: 0.2969 - val_accuracy: 0.8870\n",
            "Epoch 97/100\n",
            "20/20 [==============================] - 0s 4ms/step - loss: 0.0463 - accuracy: 0.9929 - val_loss: 0.2970 - val_accuracy: 0.8870\n",
            "Epoch 98/100\n",
            "20/20 [==============================] - 0s 4ms/step - loss: 0.0410 - accuracy: 0.9923 - val_loss: 0.2976 - val_accuracy: 0.8870\n",
            "Epoch 99/100\n",
            "20/20 [==============================] - 0s 4ms/step - loss: 0.0457 - accuracy: 0.9923 - val_loss: 0.2993 - val_accuracy: 0.8890\n",
            "Epoch 100/100\n",
            "20/20 [==============================] - 0s 4ms/step - loss: 0.0407 - accuracy: 0.9934 - val_loss: 0.3007 - val_accuracy: 0.8860\n"
          ],
          "name": "stdout"
        }
      ]
    },
    {
      "cell_type": "markdown",
      "metadata": {
        "id": "mHcod71gIPJ2"
      },
      "source": [
        "## 3. Testovanie"
      ]
    },
    {
      "cell_type": "markdown",
      "metadata": {
        "id": "fyMAMOoUXg-K"
      },
      "source": [
        "Prvým krokom bude získanie predpovede natrénovaného modelu na testovacích dátach. Na to som použil metódu `preditct()`"
      ]
    },
    {
      "cell_type": "code",
      "metadata": {
        "colab": {
          "base_uri": "https://localhost:8080/"
        },
        "id": "MT8zQy12QhqD",
        "outputId": "64dc80c4-cf7c-4b6b-c25c-ea7e1119561c"
      },
      "source": [
        "network_prediction = neural_network.predict(X_test)\n",
        "# vytvoril som prázdny list, do ktorého budem ukladať najviac\n",
        "# pravdepodobnú predpoveď natrénovaného modelu\n",
        "prediction_list = list()\n",
        "for i in range(len(network_prediction)):\n",
        "    # prechádzam jednotlivými predikciami modelu a\n",
        "    # z každého pridám najviac pravdepodobnú predpoveď do listu \n",
        "    prediction_list.append(np.argmax(network_prediction[i]))\n",
        "\n",
        "# na skúšku si vypíšem prvý riadok z listu a porovnám to o krok neskôr so skutočnosťou\n",
        "print(\"Predpoveď modelu: \", prediction_list[0])"
      ],
      "execution_count": 10,
      "outputs": [
        {
          "output_type": "stream",
          "text": [
            "Predpoveď modelu:  3\n"
          ],
          "name": "stdout"
        }
      ]
    },
    {
      "cell_type": "markdown",
      "metadata": {
        "id": "r0uS2ckbhVOr"
      },
      "source": [
        "Ďalším krokom bude získanie skutočných dát"
      ]
    },
    {
      "cell_type": "code",
      "metadata": {
        "colab": {
          "base_uri": "https://localhost:8080/"
        },
        "id": "RUYeOIFTQjFa",
        "outputId": "6a327fbc-7857-4972-a2cd-7cdc03d220c1"
      },
      "source": [
        "# vytvoril som prázdny list, do ktorého budem ukladať skutočné hodnoty\n",
        "# z testovacích dát\n",
        "testdata_list = list()\n",
        "for i in range(len(y_test)):\n",
        "    # prechádzam jednotlivými predikciami modelu a\n",
        "    # z každého pridám skutočnú hodnotu do listu \n",
        "    testdata_list.append(np.argmax(y_test[i]))\n",
        "\n",
        "# na skúšku si vypíšeme prvý riadok z listu skutočných testovacích dát a porovnáme s predpoveďou \n",
        "print(\"Skutočná hodnota: \", testdata_list[0])"
      ],
      "execution_count": 11,
      "outputs": [
        {
          "output_type": "stream",
          "text": [
            "Skutočná hodnota:  3\n"
          ],
          "name": "stdout"
        }
      ]
    },
    {
      "cell_type": "markdown",
      "metadata": {
        "id": "XF6fNxeUiIUy"
      },
      "source": [
        "Nakoniec porovnám presnosť predpovede natrénovaného modelu so skutočnými dátami pomocou metódy `accuracy_score`, z knižnice `from sklearn.metrics`.\n",
        "Výsledok vynásobím ešte ***100*** aby bol v percentách.  "
      ]
    },
    {
      "cell_type": "code",
      "metadata": {
        "colab": {
          "base_uri": "https://localhost:8080/"
        },
        "id": "aPTBBKUpaYSE",
        "outputId": "21cfdcee-fce9-4d82-b1cf-b5a0308da70e"
      },
      "source": [
        "print('Presnosť: ', accuracy_score(prediction_list, testdata_list)*100, \"%\")"
      ],
      "execution_count": 12,
      "outputs": [
        {
          "output_type": "stream",
          "text": [
            "Presnosť:  88.6 %\n"
          ],
          "name": "stdout"
        }
      ]
    },
    {
      "cell_type": "markdown",
      "metadata": {
        "id": "yEAAtqrIszRN"
      },
      "source": [
        "## 4. Vizualizácia"
      ]
    },
    {
      "cell_type": "markdown",
      "metadata": {
        "id": "vqu0JP1b3uG4"
      },
      "source": [
        "Na vizualizáciu dát použijem knižnicu `matplotlib.pyplot`.\n",
        "\n",
        "Najskôr ju využijeme na zobrazenie presnosti na trénovacích a testovacích dátach. "
      ]
    },
    {
      "cell_type": "code",
      "metadata": {
        "colab": {
          "base_uri": "https://localhost:8080/",
          "height": 295
        },
        "id": "8fxhsjxjtSHr",
        "outputId": "bb754f97-72a8-457b-e4f4-3dcb0e7d50de"
      },
      "source": [
        "# vytvoríme grafy pre presnosť z trénovacích a validačných dát \n",
        "plt.plot(network_training.history['accuracy'])\n",
        "plt.plot(network_training.history['val_accuracy'])\n",
        "# pridám označenie pre 'x' a 'y' os grafu\n",
        "plt.ylabel('Presnosť')\n",
        "plt.xlabel('Iterácia')\n",
        "# pridanie názvu grafu\n",
        "plt.title('Vizualizácia presnosti modelu')\n",
        "# zorazenie legendy v grafe\n",
        "# argumnty sú názvy a poloha samotnej legendy  \n",
        "plt.legend(['Trénovanie', 'Testovanie'], loc='lower right')\n",
        "# zobrazenie grafu\n",
        "plt.show()"
      ],
      "execution_count": 13,
      "outputs": [
        {
          "output_type": "display_data",
          "data": {
            "image/png": "[encoded data removed]",
            "text/plain": [
              "<Figure size 432x288 with 1 Axes>"
            ]
          },
          "metadata": {
            "tags": [],
            "needs_background": "light"
          }
        }
      ]
    },
    {
      "cell_type": "markdown",
      "metadata": {
        "id": "DrrnsMA35ZD4"
      },
      "source": [
        "Následne vizualizujeme chybu pri trénovacích a testovacích dátach"
      ]
    },
    {
      "cell_type": "code",
      "metadata": {
        "colab": {
          "base_uri": "https://localhost:8080/",
          "height": 295
        },
        "id": "YGxSBYYuvCJm",
        "outputId": "4ac210a4-7c0e-4fc9-b121-91749fb2e717"
      },
      "source": [
        "# vytvoríme grafy pre chybu z trénovacích a validačných dát \n",
        "plt.plot(network_training.history['loss']) \n",
        "plt.plot(network_training.history['val_loss']) \n",
        "# pridám označenie pre 'x' a 'y' os grafu\n",
        "plt.ylabel('Chyba') \n",
        "plt.xlabel('Iterácia')\n",
        "# pridanie názvu grafu\n",
        "plt.title('Vizualizácia chyby modelu') \n",
        "# zorazenie legendy v grafe\n",
        "# argumnty sú názvy a poloha samotnej legendy  \n",
        "plt.legend(['Trénovanie', 'Testovanie'], loc='lower left') \n",
        "# zobrazenei grafu\n",
        "plt.show()"
      ],
      "execution_count": 16,
      "outputs": [
        {
          "output_type": "display_data",
          "data": {
            "image/png": "[encoded data removed]",
            "text/plain": [
              "<Figure size 432x288 with 1 Axes>"
            ]
          },
          "metadata": {
            "tags": [],
            "needs_background": "light"
          }
        }
      ]
    }
  ]
}